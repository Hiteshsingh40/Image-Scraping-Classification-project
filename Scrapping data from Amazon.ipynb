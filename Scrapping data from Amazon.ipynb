{
 "cells": [
  {
   "cell_type": "code",
   "execution_count": 3,
   "metadata": {},
   "outputs": [],
   "source": [
    "from selenium import webdriver\n",
    "import os"
   ]
  },
  {
   "cell_type": "code",
   "execution_count": 86,
   "metadata": {},
   "outputs": [],
   "source": [
    "driver= webdriver.Chrome(executable_path='chromedriver.exe')"
   ]
  },
  {
   "cell_type": "code",
   "execution_count": 5,
   "metadata": {},
   "outputs": [],
   "source": [
    "#Making the directory\n",
    "def directory(dir):\n",
    "    current_path=os.getcwd()\n",
    "    new=os.path.join(current_path,dir)\n",
    "    if not os.path.exists(new):\n",
    "        os.makedirs(new)"
   ]
  },
  {
   "cell_type": "code",
   "execution_count": 6,
   "metadata": {},
   "outputs": [],
   "source": [
    "directory('Jeans Men')"
   ]
  },
  {
   "cell_type": "code",
   "execution_count": 7,
   "metadata": {},
   "outputs": [],
   "source": [
    "directory('Sarees Women')"
   ]
  },
  {
   "cell_type": "code",
   "execution_count": 8,
   "metadata": {},
   "outputs": [],
   "source": [
    "directory('Trousers Men')"
   ]
  },
  {
   "cell_type": "markdown",
   "metadata": {},
   "source": [
    "# Scrapping Sarees"
   ]
  },
  {
   "cell_type": "code",
   "execution_count": 18,
   "metadata": {},
   "outputs": [],
   "source": [
    "my_page=driver.get('https://www.amazon.in/s?k=women+sarees&ref=nb_sb_noss_1')"
   ]
  },
  {
   "cell_type": "code",
   "execution_count": 19,
   "metadata": {},
   "outputs": [],
   "source": [
    "sarees_images=driver.find_elements_by_xpath(\"//img[@class ='s-image' ]\")"
   ]
  },
  {
   "cell_type": "code",
   "execution_count": 20,
   "metadata": {},
   "outputs": [
    {
     "data": {
      "text/plain": [
       "60"
      ]
     },
     "execution_count": 20,
     "metadata": {},
     "output_type": "execute_result"
    }
   ],
   "source": [
    "len(sarees_images)"
   ]
  },
  {
   "cell_type": "code",
   "execution_count": 21,
   "metadata": {},
   "outputs": [
    {
     "data": {
      "text/plain": [
       "<selenium.webdriver.remote.webelement.WebElement (session=\"fe7bc8183c3c45398c5be0c12a6304a6\", element=\"3dd2e73b-1325-42d1-b006-a11fa1d37852\")>"
      ]
     },
     "execution_count": 21,
     "metadata": {},
     "output_type": "execute_result"
    }
   ],
   "source": [
    "images[0]"
   ]
  },
  {
   "cell_type": "code",
   "execution_count": 22,
   "metadata": {},
   "outputs": [
    {
     "name": "stdout",
     "output_type": "stream",
     "text": [
      "https://m.media-amazon.com/images/I/51KGidYrk1L._AC_UL320_.jpg\n",
      "https://m.media-amazon.com/images/I/91ja3lgrNqL._AC_UL320_.jpg\n",
      "https://m.media-amazon.com/images/I/61zy7Zx0rmL._AC_UL320_.jpg\n",
      "https://m.media-amazon.com/images/I/91JcYupCB5L._AC_UL320_.jpg\n",
      "https://m.media-amazon.com/images/I/91Nfpvp1yhL._AC_UL320_.jpg\n",
      "https://m.media-amazon.com/images/I/91yPghSgR8L._AC_UL320_.jpg\n",
      "https://m.media-amazon.com/images/I/61B8o9UlqpL._AC_UL320_.jpg\n",
      "https://m.media-amazon.com/images/I/61EvPLNdVBL._AC_UL320_.jpg\n",
      "https://m.media-amazon.com/images/I/6145npqbg4L._AC_UL320_.jpg\n",
      "https://m.media-amazon.com/images/I/910KJPiGcYL._AC_UL320_.jpg\n",
      "https://m.media-amazon.com/images/I/91YFGHzjm4L._AC_UL320_.jpg\n",
      "https://m.media-amazon.com/images/I/9114kTDpPUL._AC_UL320_.jpg\n",
      "https://m.media-amazon.com/images/I/61dbP1wFneL._AC_UL320_.jpg\n",
      "https://m.media-amazon.com/images/I/91K7kfay53L._AC_UL320_.jpg\n",
      "https://m.media-amazon.com/images/I/91J92wiWVML._AC_UL320_.jpg\n",
      "https://m.media-amazon.com/images/I/81-uuEDvnQL._AC_UL320_.jpg\n",
      "https://m.media-amazon.com/images/I/81dkSgs7nsL._AC_UL320_.jpg\n",
      "https://m.media-amazon.com/images/I/715Eq9LpiKL._AC_UL320_.jpg\n",
      "https://m.media-amazon.com/images/I/91i2qlD-Z-L._AC_UL320_.jpg\n",
      "https://m.media-amazon.com/images/I/713f+6CnyNL._AC_UL320_.jpg\n",
      "https://m.media-amazon.com/images/I/91-XS+O-SnL._AC_UL320_.jpg\n",
      "https://m.media-amazon.com/images/I/81a2QKapOPL._AC_UL320_.jpg\n",
      "https://m.media-amazon.com/images/I/91yS1Ea+WOL._AC_UL320_.jpg\n",
      "https://m.media-amazon.com/images/I/91-xIxhGJBL._AC_UL320_.jpg\n",
      "https://m.media-amazon.com/images/I/91WCQ88UV5L._AC_UL320_.jpg\n",
      "https://m.media-amazon.com/images/I/818waCM6fIL._AC_UL320_.jpg\n",
      "https://m.media-amazon.com/images/I/916PwQG4MmL._AC_UL320_.jpg\n",
      "https://m.media-amazon.com/images/I/61lIqW3EzmL._AC_UL320_.jpg\n",
      "https://m.media-amazon.com/images/I/91RdB6OaqHL._AC_UL320_.jpg\n",
      "https://m.media-amazon.com/images/I/81JE98ug38L._AC_UL320_.jpg\n",
      "https://m.media-amazon.com/images/I/71lZhwh1ogL._AC_UL320_.jpg\n",
      "https://m.media-amazon.com/images/I/71g8zQB460L._AC_UL320_.jpg\n",
      "https://m.media-amazon.com/images/I/91JDTPf0ElL._AC_UL320_.jpg\n",
      "https://m.media-amazon.com/images/I/91dJZdKOJPL._AC_UL320_.jpg\n",
      "https://m.media-amazon.com/images/I/71MWiAnBMcL._AC_UL320_.jpg\n",
      "https://m.media-amazon.com/images/I/91Xw4KtmTXL._AC_UL320_.jpg\n",
      "https://m.media-amazon.com/images/I/71p0MOTaZ3L._AC_UL320_.jpg\n",
      "https://m.media-amazon.com/images/I/71LZF0v4o8L._AC_UL320_.jpg\n",
      "https://m.media-amazon.com/images/I/9184dWG07lL._AC_UL320_.jpg\n",
      "https://m.media-amazon.com/images/I/71AlQjtM-tL._AC_UL320_.jpg\n",
      "https://m.media-amazon.com/images/I/715uwUzQijL._AC_UL320_.jpg\n",
      "https://m.media-amazon.com/images/I/61BAGGt8icL._AC_UL320_.jpg\n",
      "https://m.media-amazon.com/images/I/61JCln0o8dL._AC_UL320_.jpg\n",
      "https://m.media-amazon.com/images/I/61AJfE0W64L._AC_UL320_.jpg\n",
      "https://m.media-amazon.com/images/I/51IVlViUjUL._AC_UL320_.jpg\n",
      "https://m.media-amazon.com/images/I/91Ko73taIuL._AC_UL320_.jpg\n",
      "https://m.media-amazon.com/images/I/715NYXDhD-L._AC_UL320_.jpg\n",
      "https://m.media-amazon.com/images/I/71CPfiKpWmL._AC_UL320_.jpg\n",
      "https://m.media-amazon.com/images/I/913VtoIq8DL._AC_UL320_.jpg\n",
      "https://m.media-amazon.com/images/I/71H+wwqqLvL._AC_UL320_.jpg\n",
      "https://m.media-amazon.com/images/I/51-7oFhD3EL._AC_UL320_.jpg\n",
      "https://m.media-amazon.com/images/I/71t4-HNr3jL._AC_UL320_.jpg\n",
      "https://m.media-amazon.com/images/I/81VS9g8uwUL._AC_UL320_.jpg\n",
      "https://m.media-amazon.com/images/I/81qi7QCNSjL._AC_UL320_.jpg\n",
      "https://m.media-amazon.com/images/I/618-hsWwAUL._AC_UL320_.jpg\n",
      "https://m.media-amazon.com/images/I/81uSvaWKNtL._AC_UL320_.jpg\n",
      "https://m.media-amazon.com/images/I/818fwsF9TKL._AC_UL320_.jpg\n",
      "https://m.media-amazon.com/images/I/91TRCYIyd8L._AC_UL320_.jpg\n",
      "https://m.media-amazon.com/images/I/81upzCocQXL._AC_UL320_.jpg\n",
      "https://m.media-amazon.com/images/I/91kMoP2bKAL._AC_UL320_.jpg\n"
     ]
    }
   ],
   "source": [
    "urls=[]\n",
    "for saree_image in sarees_images:\n",
    "    source = saree_image.get_attribute('src')\n",
    "    urls.append(source)\n",
    "    print(source)"
   ]
  },
  {
   "cell_type": "code",
   "execution_count": 23,
   "metadata": {},
   "outputs": [
    {
     "data": {
      "text/plain": [
       "60"
      ]
     },
     "execution_count": 23,
     "metadata": {},
     "output_type": "execute_result"
    }
   ],
   "source": [
    "len(urls)"
   ]
  },
  {
   "cell_type": "code",
   "execution_count": 24,
   "metadata": {},
   "outputs": [
    {
     "data": {
      "text/plain": [
       "62"
      ]
     },
     "execution_count": 24,
     "metadata": {},
     "output_type": "execute_result"
    }
   ],
   "source": [
    "len(source)"
   ]
  },
  {
   "cell_type": "code",
   "execution_count": 25,
   "metadata": {},
   "outputs": [],
   "source": [
    "#Download Images\n",
    "import shutil\n",
    "import requests"
   ]
  },
  {
   "cell_type": "code",
   "execution_count": 28,
   "metadata": {},
   "outputs": [
    {
     "name": "stdout",
     "output_type": "stream",
     "text": [
      "Downloading 1 of 60 images for page 1\n",
      "Downloading 2 of 60 images for page 1\n",
      "Downloading 3 of 60 images for page 1\n",
      "Downloading 4 of 60 images for page 1\n",
      "Downloading 5 of 60 images for page 1\n",
      "Downloading 6 of 60 images for page 1\n",
      "Downloading 7 of 60 images for page 1\n",
      "Downloading 8 of 60 images for page 1\n",
      "Downloading 9 of 60 images for page 1\n",
      "Downloading 10 of 60 images for page 1\n",
      "Downloading 11 of 60 images for page 1\n",
      "Downloading 12 of 60 images for page 1\n",
      "Downloading 13 of 60 images for page 1\n",
      "Downloading 14 of 60 images for page 1\n",
      "Downloading 15 of 60 images for page 1\n",
      "Downloading 16 of 60 images for page 1\n",
      "Downloading 17 of 60 images for page 1\n",
      "Downloading 18 of 60 images for page 1\n",
      "Downloading 19 of 60 images for page 1\n",
      "Downloading 20 of 60 images for page 1\n",
      "Downloading 21 of 60 images for page 1\n",
      "Downloading 22 of 60 images for page 1\n",
      "Downloading 23 of 60 images for page 1\n",
      "Downloading 24 of 60 images for page 1\n",
      "Downloading 25 of 60 images for page 1\n",
      "Downloading 26 of 60 images for page 1\n",
      "Downloading 27 of 60 images for page 1\n",
      "Downloading 28 of 60 images for page 1\n",
      "Downloading 29 of 60 images for page 1\n",
      "Downloading 30 of 60 images for page 1\n",
      "Downloading 31 of 60 images for page 1\n",
      "Downloading 32 of 60 images for page 1\n",
      "Downloading 33 of 60 images for page 1\n",
      "Downloading 34 of 60 images for page 1\n",
      "Downloading 35 of 60 images for page 1\n",
      "Downloading 36 of 60 images for page 1\n",
      "Downloading 37 of 60 images for page 1\n",
      "Downloading 38 of 60 images for page 1\n",
      "Downloading 39 of 60 images for page 1\n",
      "Downloading 40 of 60 images for page 1\n",
      "Downloading 41 of 60 images for page 1\n",
      "Downloading 42 of 60 images for page 1\n",
      "Downloading 43 of 60 images for page 1\n",
      "Downloading 44 of 60 images for page 1\n",
      "Downloading 45 of 60 images for page 1\n",
      "Downloading 46 of 60 images for page 1\n",
      "Downloading 47 of 60 images for page 1\n",
      "Downloading 48 of 60 images for page 1\n",
      "Downloading 49 of 60 images for page 1\n",
      "Downloading 50 of 60 images for page 1\n",
      "Downloading 51 of 60 images for page 1\n",
      "Downloading 52 of 60 images for page 1\n",
      "Downloading 53 of 60 images for page 1\n",
      "Downloading 54 of 60 images for page 1\n",
      "Downloading 55 of 60 images for page 1\n",
      "Downloading 56 of 60 images for page 1\n",
      "Downloading 57 of 60 images for page 1\n",
      "Downloading 58 of 60 images for page 1\n",
      "Downloading 59 of 60 images for page 1\n",
      "Downloading 60 of 60 images for page 1\n"
     ]
    }
   ],
   "source": [
    "page=1\n",
    "for index, link in enumerate(urls):\n",
    "    print('Downloading {0} of {1} images for page 1'.format(index+1, len(urls)))\n",
    "    response=requests.get(link)\n",
    "    with open('Sarees Women/img{0}{1}.jpeg'.format(index,page),\"wb\")as file:\n",
    "        file.write(response.content)"
   ]
  },
  {
   "cell_type": "markdown",
   "metadata": {},
   "source": [
    "### Moving to  Page 2"
   ]
  },
  {
   "cell_type": "code",
   "execution_count": 29,
   "metadata": {},
   "outputs": [],
   "source": [
    "#Now, we find the 'Next' button using x_path and using selenium we click it.\n",
    "next_page=driver.find_element_by_xpath(\"//li[@class = 'a-last']//a\").click()"
   ]
  },
  {
   "cell_type": "code",
   "execution_count": 30,
   "metadata": {},
   "outputs": [],
   "source": [
    "sarees_images=driver.find_elements_by_xpath(\"//img[@class ='s-image' ]\")"
   ]
  },
  {
   "cell_type": "code",
   "execution_count": 31,
   "metadata": {},
   "outputs": [
    {
     "data": {
      "text/plain": [
       "60"
      ]
     },
     "execution_count": 31,
     "metadata": {},
     "output_type": "execute_result"
    }
   ],
   "source": [
    "len(sarees_images)"
   ]
  },
  {
   "cell_type": "code",
   "execution_count": 32,
   "metadata": {},
   "outputs": [
    {
     "name": "stdout",
     "output_type": "stream",
     "text": [
      "https://m.media-amazon.com/images/I/81ZRwhFoFbL._AC_UL320_.jpg\n",
      "https://m.media-amazon.com/images/I/819NWdNW1CL._AC_UL320_.jpg\n",
      "https://m.media-amazon.com/images/I/81FTkOVGQ+L._AC_UL320_.jpg\n",
      "https://m.media-amazon.com/images/I/81PxPbx4gCL._AC_UL320_.jpg\n",
      "https://m.media-amazon.com/images/I/51ksagyqkAL._AC_UL320_.jpg\n",
      "https://m.media-amazon.com/images/I/51vFzNCMVmL._AC_UL320_.jpg\n",
      "https://m.media-amazon.com/images/I/81XKaSKvlyL._AC_UL320_.jpg\n",
      "https://m.media-amazon.com/images/I/81QOe4fOisL._AC_UL320_.jpg\n",
      "https://m.media-amazon.com/images/I/919yn9gGZbL._AC_UL320_.jpg\n",
      "https://m.media-amazon.com/images/I/31eY21G9l2L._AC_UL320_.jpg\n",
      "https://m.media-amazon.com/images/I/81LgiMrGpyL._AC_UL320_.jpg\n",
      "https://m.media-amazon.com/images/I/810bWMiAmaL._AC_UL320_.jpg\n",
      "https://m.media-amazon.com/images/I/81ZgLgiKS3L._AC_UL320_.jpg\n",
      "https://m.media-amazon.com/images/I/914lshTFBdL._AC_UL320_.jpg\n",
      "https://m.media-amazon.com/images/I/818nsNTjzxL._AC_UL320_.jpg\n",
      "https://m.media-amazon.com/images/I/91+hVz1-H5L._AC_UL320_.jpg\n",
      "https://m.media-amazon.com/images/I/71TJ9p46PVL._AC_UL320_.jpg\n",
      "https://m.media-amazon.com/images/I/91RLBThNNhL._AC_UL320_.jpg\n",
      "https://m.media-amazon.com/images/I/71X7FKN76QL._AC_UL320_.jpg\n",
      "https://m.media-amazon.com/images/I/61axRgsCAxL._AC_UL320_.jpg\n",
      "https://m.media-amazon.com/images/I/810bnyQ4B2L._AC_UL320_.jpg\n",
      "https://m.media-amazon.com/images/I/818c0I+yslL._AC_UL320_.jpg\n",
      "https://m.media-amazon.com/images/I/41EkVCW617L._AC_UL320_.jpg\n",
      "https://m.media-amazon.com/images/I/71WBqFCO+CL._AC_UL320_.jpg\n",
      "https://m.media-amazon.com/images/I/918Ve93krwL._AC_UL320_.jpg\n",
      "https://m.media-amazon.com/images/I/41zLo0oOf7L._AC_UL320_.jpg\n",
      "https://m.media-amazon.com/images/I/7173KkOWc1L._AC_UL320_.jpg\n",
      "https://m.media-amazon.com/images/I/718ea0qYxxL._AC_UL320_.jpg\n",
      "https://m.media-amazon.com/images/I/81344RTFVfL._AC_UL320_.jpg\n",
      "https://m.media-amazon.com/images/I/916nMK7rdXL._AC_UL320_.jpg\n",
      "https://m.media-amazon.com/images/I/81+BdQPV9ML._AC_UL320_.jpg\n",
      "https://m.media-amazon.com/images/I/61AWPMXnPbL._AC_UL320_.jpg\n",
      "https://m.media-amazon.com/images/I/81sWxv3qhdL._AC_UL320_.jpg\n",
      "https://m.media-amazon.com/images/I/610NRTaITlL._AC_UL320_.jpg\n",
      "https://m.media-amazon.com/images/I/91+auNsyHVL._AC_UL320_.jpg\n",
      "https://m.media-amazon.com/images/I/81dPJnoDrUL._AC_UL320_.jpg\n",
      "https://m.media-amazon.com/images/I/71MSMxeuPUL._AC_UL320_.jpg\n",
      "https://m.media-amazon.com/images/I/814U0+6V4HL._AC_UL320_.jpg\n",
      "https://m.media-amazon.com/images/I/71+HgPamOrL._AC_UL320_.jpg\n",
      "https://m.media-amazon.com/images/I/91B69CsUQIL._AC_UL320_.jpg\n",
      "https://m.media-amazon.com/images/I/81V-m62zsQL._AC_UL320_.jpg\n",
      "https://m.media-amazon.com/images/I/91n+bpxYdoL._AC_UL320_.jpg\n",
      "https://m.media-amazon.com/images/I/718ea0qYxxL._AC_UL320_.jpg\n",
      "https://m.media-amazon.com/images/I/81h7PuLq-yL._AC_UL320_.jpg\n",
      "https://m.media-amazon.com/images/I/71GKOi7ptgL._AC_UL320_.jpg\n",
      "https://m.media-amazon.com/images/I/81BO9PICWgL._AC_UL320_.jpg\n",
      "https://m.media-amazon.com/images/I/A1tFsM3g3vL._AC_UL320_.jpg\n",
      "https://m.media-amazon.com/images/I/8193VjcJIpL._AC_UL320_.jpg\n",
      "https://m.media-amazon.com/images/I/71s9IOdhTiL._AC_UL320_.jpg\n",
      "https://m.media-amazon.com/images/I/61HkorLwcWL._AC_UL320_.jpg\n",
      "https://m.media-amazon.com/images/I/61qqS6Hn1TL._AC_UL320_.jpg\n",
      "https://m.media-amazon.com/images/I/91HnNBREpPL._AC_UL320_.jpg\n",
      "https://m.media-amazon.com/images/I/81Go-YQRDwL._AC_UL320_.jpg\n",
      "https://m.media-amazon.com/images/I/810Kq7xQvtL._AC_UL320_.jpg\n",
      "https://m.media-amazon.com/images/I/91ocLSjowDL._AC_UL320_.jpg\n",
      "https://m.media-amazon.com/images/I/71b-FKyLAKL._AC_UL320_.jpg\n",
      "https://m.media-amazon.com/images/I/71C121kWqUL._AC_UL320_.jpg\n",
      "https://m.media-amazon.com/images/I/41MHMMXMjJL._AC_UL320_.jpg\n",
      "https://m.media-amazon.com/images/I/71TkNhHposL._AC_UL320_.jpg\n",
      "https://m.media-amazon.com/images/I/81orlHCoUSL._AC_UL320_.jpg\n"
     ]
    }
   ],
   "source": [
    "urls=[]\n",
    "for saree_image in sarees_images:\n",
    "    source = saree_image.get_attribute('src')\n",
    "    urls.append(source)\n",
    "    print(source)"
   ]
  },
  {
   "cell_type": "code",
   "execution_count": 34,
   "metadata": {},
   "outputs": [
    {
     "name": "stdout",
     "output_type": "stream",
     "text": [
      "Downloading 1 of 60 images for page 2\n",
      "Downloading 2 of 60 images for page 2\n",
      "Downloading 3 of 60 images for page 2\n",
      "Downloading 4 of 60 images for page 2\n",
      "Downloading 5 of 60 images for page 2\n",
      "Downloading 6 of 60 images for page 2\n",
      "Downloading 7 of 60 images for page 2\n",
      "Downloading 8 of 60 images for page 2\n",
      "Downloading 9 of 60 images for page 2\n",
      "Downloading 10 of 60 images for page 2\n",
      "Downloading 11 of 60 images for page 2\n",
      "Downloading 12 of 60 images for page 2\n",
      "Downloading 13 of 60 images for page 2\n",
      "Downloading 14 of 60 images for page 2\n",
      "Downloading 15 of 60 images for page 2\n",
      "Downloading 16 of 60 images for page 2\n",
      "Downloading 17 of 60 images for page 2\n",
      "Downloading 18 of 60 images for page 2\n",
      "Downloading 19 of 60 images for page 2\n",
      "Downloading 20 of 60 images for page 2\n",
      "Downloading 21 of 60 images for page 2\n",
      "Downloading 22 of 60 images for page 2\n",
      "Downloading 23 of 60 images for page 2\n",
      "Downloading 24 of 60 images for page 2\n",
      "Downloading 25 of 60 images for page 2\n",
      "Downloading 26 of 60 images for page 2\n",
      "Downloading 27 of 60 images for page 2\n",
      "Downloading 28 of 60 images for page 2\n",
      "Downloading 29 of 60 images for page 2\n",
      "Downloading 30 of 60 images for page 2\n",
      "Downloading 31 of 60 images for page 2\n",
      "Downloading 32 of 60 images for page 2\n",
      "Downloading 33 of 60 images for page 2\n",
      "Downloading 34 of 60 images for page 2\n",
      "Downloading 35 of 60 images for page 2\n",
      "Downloading 36 of 60 images for page 2\n",
      "Downloading 37 of 60 images for page 2\n",
      "Downloading 38 of 60 images for page 2\n",
      "Downloading 39 of 60 images for page 2\n",
      "Downloading 40 of 60 images for page 2\n",
      "Downloading 41 of 60 images for page 2\n",
      "Downloading 42 of 60 images for page 2\n",
      "Downloading 43 of 60 images for page 2\n",
      "Downloading 44 of 60 images for page 2\n",
      "Downloading 45 of 60 images for page 2\n",
      "Downloading 46 of 60 images for page 2\n",
      "Downloading 47 of 60 images for page 2\n",
      "Downloading 48 of 60 images for page 2\n",
      "Downloading 49 of 60 images for page 2\n",
      "Downloading 50 of 60 images for page 2\n",
      "Downloading 51 of 60 images for page 2\n",
      "Downloading 52 of 60 images for page 2\n",
      "Downloading 53 of 60 images for page 2\n",
      "Downloading 54 of 60 images for page 2\n",
      "Downloading 55 of 60 images for page 2\n",
      "Downloading 56 of 60 images for page 2\n",
      "Downloading 57 of 60 images for page 2\n",
      "Downloading 58 of 60 images for page 2\n",
      "Downloading 59 of 60 images for page 2\n",
      "Downloading 60 of 60 images for page 2\n"
     ]
    }
   ],
   "source": [
    "page=2\n",
    "for index, link in enumerate(urls):\n",
    "    print('Downloading {0} of {1} images for page 2'.format(index+1, len(urls)))\n",
    "    response=requests.get(link)\n",
    "    with open('Sarees Women/img{0}{1}.jpeg'.format(index,page),\"wb\")as file:\n",
    "        file.write(response.content)"
   ]
  },
  {
   "cell_type": "markdown",
   "metadata": {},
   "source": [
    "### Moving to Page 3"
   ]
  },
  {
   "cell_type": "code",
   "execution_count": 35,
   "metadata": {},
   "outputs": [],
   "source": [
    "#Now, we find the 'Next' button using x_path and using selenium we click it.\n",
    "next_page=driver.find_element_by_xpath(\"//li[@class = 'a-last']//a\").click()"
   ]
  },
  {
   "cell_type": "code",
   "execution_count": 36,
   "metadata": {},
   "outputs": [],
   "source": [
    "sarees_images=driver.find_elements_by_xpath(\"//img[@class ='s-image' ]\")"
   ]
  },
  {
   "cell_type": "code",
   "execution_count": 37,
   "metadata": {},
   "outputs": [
    {
     "data": {
      "text/plain": [
       "60"
      ]
     },
     "execution_count": 37,
     "metadata": {},
     "output_type": "execute_result"
    }
   ],
   "source": [
    "len(sarees_images)"
   ]
  },
  {
   "cell_type": "code",
   "execution_count": 38,
   "metadata": {},
   "outputs": [
    {
     "name": "stdout",
     "output_type": "stream",
     "text": [
      "https://m.media-amazon.com/images/I/81zLAkuiEhL._AC_UL320_.jpg\n",
      "https://m.media-amazon.com/images/I/81mIbION2NL._AC_UL320_.jpg\n",
      "https://m.media-amazon.com/images/I/81Csu7KhggL._AC_UL320_.jpg\n",
      "https://m.media-amazon.com/images/I/81F2gmN5xPL._AC_UL320_.jpg\n",
      "https://m.media-amazon.com/images/I/81txjLK4f7L._AC_UL320_.jpg\n",
      "https://m.media-amazon.com/images/I/910JqH-mnEL._AC_UL320_.jpg\n",
      "https://m.media-amazon.com/images/I/91zi7iIRi3L._AC_UL320_.jpg\n",
      "https://m.media-amazon.com/images/I/81TzhPGEk+L._AC_UL320_.jpg\n",
      "https://m.media-amazon.com/images/I/71GzymXeUeL._AC_UL320_.jpg\n",
      "https://m.media-amazon.com/images/I/71Ecj9TEFLL._AC_UL320_.jpg\n",
      "https://m.media-amazon.com/images/I/71MSMxeuPUL._AC_UL320_.jpg\n",
      "https://m.media-amazon.com/images/I/815SZPYz7gL._AC_UL320_.jpg\n",
      "https://m.media-amazon.com/images/I/71koTwi7e7L._AC_UL320_.jpg\n",
      "https://m.media-amazon.com/images/I/81HisZMSAVL._AC_UL320_.jpg\n",
      "https://m.media-amazon.com/images/I/61n6hh67WWL._AC_UL320_.jpg\n",
      "https://m.media-amazon.com/images/I/81wXNHiQEIL._AC_UL320_.jpg\n",
      "https://m.media-amazon.com/images/I/91G+X7tcIXL._AC_UL320_.jpg\n",
      "https://m.media-amazon.com/images/I/518nmMcBEdL._AC_UL320_.jpg\n",
      "https://m.media-amazon.com/images/I/5139t071bIL._AC_UL320_.jpg\n",
      "https://m.media-amazon.com/images/I/71BSeRD2cBL._AC_UL320_.jpg\n",
      "https://m.media-amazon.com/images/I/71o+d5e53VL._AC_UL320_.jpg\n",
      "https://m.media-amazon.com/images/I/71WM2KoBjzL._AC_UL320_.jpg\n",
      "https://m.media-amazon.com/images/I/81kM07jmMqL._AC_UL320_.jpg\n",
      "https://m.media-amazon.com/images/I/71Sfde759wL._AC_UL320_.jpg\n",
      "https://m.media-amazon.com/images/I/71rxu2b4cML._AC_UL320_.jpg\n",
      "https://m.media-amazon.com/images/I/91fDy-jVCjL._AC_UL320_.jpg\n",
      "https://m.media-amazon.com/images/I/61ThuZ7z1qL._AC_UL320_.jpg\n",
      "https://m.media-amazon.com/images/I/81W-MtAonDL._AC_UL320_.jpg\n",
      "https://m.media-amazon.com/images/I/61qdKQMwmFL._AC_UL320_.jpg\n",
      "https://m.media-amazon.com/images/I/71+LtVrISQL._AC_UL320_.jpg\n",
      "https://m.media-amazon.com/images/I/71fM3n7espL._AC_UL320_.jpg\n",
      "https://m.media-amazon.com/images/I/814wlzlKlrL._AC_UL320_.jpg\n",
      "https://m.media-amazon.com/images/I/61K3X3dUUrL._AC_UL320_.jpg\n",
      "https://m.media-amazon.com/images/I/81BO9PICWgL._AC_UL320_.jpg\n",
      "https://m.media-amazon.com/images/I/91ZYjQP4RjL._AC_UL320_.jpg\n",
      "https://m.media-amazon.com/images/I/71AvQRws1xL._AC_UL320_.jpg\n",
      "https://m.media-amazon.com/images/I/71D7ytkuKaL._AC_UL320_.jpg\n",
      "https://m.media-amazon.com/images/I/71DLhI+syxL._AC_UL320_.jpg\n",
      "https://m.media-amazon.com/images/I/A1tFsM3g3vL._AC_UL320_.jpg\n",
      "https://m.media-amazon.com/images/I/81cVrNehTpL._AC_UL320_.jpg\n",
      "https://m.media-amazon.com/images/I/41zLo0oOf7L._AC_UL320_.jpg\n",
      "https://m.media-amazon.com/images/I/91zQfiaYqwL._AC_UL320_.jpg\n",
      "https://m.media-amazon.com/images/I/81RLdGDhl3L._AC_UL320_.jpg\n",
      "https://m.media-amazon.com/images/I/81qimVjk3cL._AC_UL320_.jpg\n",
      "https://m.media-amazon.com/images/I/81nLVjszV1L._AC_UL320_.jpg\n",
      "https://m.media-amazon.com/images/I/71fFmZulTWL._AC_UL320_.jpg\n",
      "https://m.media-amazon.com/images/I/51lnu+YpkWL._AC_UL320_.jpg\n",
      "https://m.media-amazon.com/images/I/611Gsw5p3PL._AC_UL320_.jpg\n",
      "https://m.media-amazon.com/images/I/919lNOaU-GL._AC_UL320_.jpg\n",
      "https://m.media-amazon.com/images/I/81AuDoe9ruL._AC_UL320_.jpg\n",
      "https://m.media-amazon.com/images/I/91SqH5e2GQL._AC_UL320_.jpg\n",
      "https://m.media-amazon.com/images/I/51r7L8ZWktL._AC_UL320_.jpg\n",
      "https://m.media-amazon.com/images/I/91tz8RFJlDL._AC_UL320_.jpg\n",
      "https://m.media-amazon.com/images/I/81K1Dpvn74L._AC_UL320_.jpg\n",
      "https://m.media-amazon.com/images/I/91eQhbcf-XL._AC_UL320_.jpg\n",
      "https://m.media-amazon.com/images/I/51dEwpm6i3L._AC_UL320_.jpg\n",
      "https://m.media-amazon.com/images/I/91zonoqntqL._AC_UL320_.jpg\n",
      "https://m.media-amazon.com/images/I/918G4e2F5WL._AC_UL320_.jpg\n",
      "https://m.media-amazon.com/images/I/710L1vyEcYL._AC_UL320_.jpg\n",
      "https://m.media-amazon.com/images/I/71OYAdrnznL._AC_UL320_.jpg\n"
     ]
    }
   ],
   "source": [
    "urls=[]\n",
    "for saree_image in sarees_images:\n",
    "    source = saree_image.get_attribute('src')\n",
    "    urls.append(source)\n",
    "    print(source)"
   ]
  },
  {
   "cell_type": "code",
   "execution_count": 39,
   "metadata": {},
   "outputs": [
    {
     "name": "stdout",
     "output_type": "stream",
     "text": [
      "Downloading 1 of 60 images for page 3\n",
      "Downloading 2 of 60 images for page 3\n",
      "Downloading 3 of 60 images for page 3\n",
      "Downloading 4 of 60 images for page 3\n",
      "Downloading 5 of 60 images for page 3\n",
      "Downloading 6 of 60 images for page 3\n",
      "Downloading 7 of 60 images for page 3\n",
      "Downloading 8 of 60 images for page 3\n",
      "Downloading 9 of 60 images for page 3\n",
      "Downloading 10 of 60 images for page 3\n",
      "Downloading 11 of 60 images for page 3\n",
      "Downloading 12 of 60 images for page 3\n",
      "Downloading 13 of 60 images for page 3\n",
      "Downloading 14 of 60 images for page 3\n",
      "Downloading 15 of 60 images for page 3\n",
      "Downloading 16 of 60 images for page 3\n",
      "Downloading 17 of 60 images for page 3\n",
      "Downloading 18 of 60 images for page 3\n",
      "Downloading 19 of 60 images for page 3\n",
      "Downloading 20 of 60 images for page 3\n",
      "Downloading 21 of 60 images for page 3\n",
      "Downloading 22 of 60 images for page 3\n",
      "Downloading 23 of 60 images for page 3\n",
      "Downloading 24 of 60 images for page 3\n",
      "Downloading 25 of 60 images for page 3\n",
      "Downloading 26 of 60 images for page 3\n",
      "Downloading 27 of 60 images for page 3\n",
      "Downloading 28 of 60 images for page 3\n",
      "Downloading 29 of 60 images for page 3\n",
      "Downloading 30 of 60 images for page 3\n",
      "Downloading 31 of 60 images for page 3\n",
      "Downloading 32 of 60 images for page 3\n",
      "Downloading 33 of 60 images for page 3\n",
      "Downloading 34 of 60 images for page 3\n",
      "Downloading 35 of 60 images for page 3\n",
      "Downloading 36 of 60 images for page 3\n",
      "Downloading 37 of 60 images for page 3\n",
      "Downloading 38 of 60 images for page 3\n",
      "Downloading 39 of 60 images for page 3\n",
      "Downloading 40 of 60 images for page 3\n",
      "Downloading 41 of 60 images for page 3\n",
      "Downloading 42 of 60 images for page 3\n",
      "Downloading 43 of 60 images for page 3\n",
      "Downloading 44 of 60 images for page 3\n",
      "Downloading 45 of 60 images for page 3\n",
      "Downloading 46 of 60 images for page 3\n",
      "Downloading 47 of 60 images for page 3\n",
      "Downloading 48 of 60 images for page 3\n",
      "Downloading 49 of 60 images for page 3\n",
      "Downloading 50 of 60 images for page 3\n",
      "Downloading 51 of 60 images for page 3\n",
      "Downloading 52 of 60 images for page 3\n",
      "Downloading 53 of 60 images for page 3\n",
      "Downloading 54 of 60 images for page 3\n",
      "Downloading 55 of 60 images for page 3\n",
      "Downloading 56 of 60 images for page 3\n",
      "Downloading 57 of 60 images for page 3\n",
      "Downloading 58 of 60 images for page 3\n",
      "Downloading 59 of 60 images for page 3\n",
      "Downloading 60 of 60 images for page 3\n"
     ]
    }
   ],
   "source": [
    "page=3\n",
    "for index, link in enumerate(urls):\n",
    "    print('Downloading {0} of {1} images for page 3'.format(index+1, len(urls)))\n",
    "    response=requests.get(link)\n",
    "    with open('Sarees Women/img{0}{1}.jpeg'.format(index,page),\"wb\")as file:\n",
    "        file.write(response.content)"
   ]
  },
  {
   "cell_type": "markdown",
   "metadata": {},
   "source": [
    "### Moving to Page 4"
   ]
  },
  {
   "cell_type": "code",
   "execution_count": 45,
   "metadata": {},
   "outputs": [],
   "source": [
    "#Now, we find the 'Next' button using x_path and using selenium we click it.\n",
    "next_page=driver.find_element_by_xpath(\"//li[@class = 'a-last']//a\").click()"
   ]
  },
  {
   "cell_type": "code",
   "execution_count": 50,
   "metadata": {},
   "outputs": [],
   "source": [
    "sarees_images=driver.find_elements_by_xpath(\"//img[@class ='s-image' ]\")"
   ]
  },
  {
   "cell_type": "code",
   "execution_count": 51,
   "metadata": {},
   "outputs": [
    {
     "data": {
      "text/plain": [
       "60"
      ]
     },
     "execution_count": 51,
     "metadata": {},
     "output_type": "execute_result"
    }
   ],
   "source": [
    "len(sarees_images)"
   ]
  },
  {
   "cell_type": "code",
   "execution_count": 52,
   "metadata": {},
   "outputs": [
    {
     "name": "stdout",
     "output_type": "stream",
     "text": [
      "https://m.media-amazon.com/images/I/81dS+-qqTyL._AC_UL320_.jpg\n",
      "https://m.media-amazon.com/images/I/91JZY0YnLlL._AC_UL320_.jpg\n",
      "https://m.media-amazon.com/images/I/91uX81hndKL._AC_UL320_.jpg\n",
      "https://m.media-amazon.com/images/I/81pAbTdiC9L._AC_UL320_.jpg\n",
      "https://m.media-amazon.com/images/I/81K1Dpvn74L._AC_UL320_.jpg\n",
      "https://m.media-amazon.com/images/I/91eQhbcf-XL._AC_UL320_.jpg\n",
      "https://m.media-amazon.com/images/I/9147wNIT9jL._AC_UL320_.jpg\n",
      "https://m.media-amazon.com/images/I/51dEwpm6i3L._AC_UL320_.jpg\n",
      "https://m.media-amazon.com/images/I/71SuXqzT-VL._AC_UL320_.jpg\n",
      "https://m.media-amazon.com/images/I/A1ph5vsNmZL._AC_UL320_.jpg\n",
      "https://m.media-amazon.com/images/I/71iLdDhTOaL._AC_UL320_.jpg\n",
      "https://m.media-amazon.com/images/I/61MMt8ziZLL._AC_UL320_.jpg\n",
      "https://m.media-amazon.com/images/I/81piPQ3XjgL._AC_UL320_.jpg\n",
      "https://m.media-amazon.com/images/I/811zCL2UCZL._AC_UL320_.jpg\n",
      "https://m.media-amazon.com/images/I/91hnpooM-yL._AC_UL320_.jpg\n",
      "https://m.media-amazon.com/images/I/71DG++7RwrL._AC_UL320_.jpg\n",
      "https://m.media-amazon.com/images/I/61cb88ORChL._AC_UL320_.jpg\n",
      "https://m.media-amazon.com/images/I/613hp0Z33CL._AC_UL320_.jpg\n",
      "https://m.media-amazon.com/images/I/91IA53Wt44L._AC_UL320_.jpg\n",
      "https://m.media-amazon.com/images/I/81hfHqCcLSL._AC_UL320_.jpg\n",
      "https://m.media-amazon.com/images/I/81+gdOIRs6L._AC_UL320_.jpg\n",
      "https://m.media-amazon.com/images/I/81lkdsx6z3L._AC_UL320_.jpg\n",
      "https://m.media-amazon.com/images/I/71mV-2sjcfL._AC_UL320_.jpg\n",
      "https://m.media-amazon.com/images/I/61mGqGf9-dL._AC_UL320_.jpg\n",
      "https://m.media-amazon.com/images/I/71Tv5mNISTL._AC_UL320_.jpg\n",
      "https://m.media-amazon.com/images/I/91WMvwCs0fL._AC_UL320_.jpg\n",
      "https://m.media-amazon.com/images/I/71qv4-LCeCL._AC_UL320_.jpg\n",
      "https://m.media-amazon.com/images/I/91jJdixhISL._AC_UL320_.jpg\n",
      "https://m.media-amazon.com/images/I/81WwpOafDyL._AC_UL320_.jpg\n",
      "https://m.media-amazon.com/images/I/71T2NSfMS2L._AC_UL320_.jpg\n",
      "https://m.media-amazon.com/images/I/312sbCbhLoL._AC_UL320_.jpg\n",
      "https://m.media-amazon.com/images/I/81ABsbDghbL._AC_UL320_.jpg\n",
      "https://m.media-amazon.com/images/I/71sdGaIrOfL._AC_UL320_.jpg\n",
      "https://m.media-amazon.com/images/I/71kMEc4vcHL._AC_UL320_.jpg\n",
      "https://m.media-amazon.com/images/I/81u7FYrQPpL._AC_UL320_.jpg\n",
      "https://m.media-amazon.com/images/I/718krpgiLlL._AC_UL320_.jpg\n",
      "https://m.media-amazon.com/images/I/81iSI9lRxgL._AC_UL320_.jpg\n",
      "https://m.media-amazon.com/images/I/712utRBG0+L._AC_UL320_.jpg\n",
      "https://m.media-amazon.com/images/I/51hw22SU20L._AC_UL320_.jpg\n",
      "https://m.media-amazon.com/images/I/81i7-c1enrL._AC_UL320_.jpg\n",
      "https://m.media-amazon.com/images/I/91qX7Q7w-KL._AC_UL320_.jpg\n",
      "https://m.media-amazon.com/images/I/51fqhgIXFFL._AC_UL320_.jpg\n",
      "https://m.media-amazon.com/images/I/71ltlSulo3L._AC_UL320_.jpg\n",
      "https://m.media-amazon.com/images/I/71vM0Ux9W3L._AC_UL320_.jpg\n",
      "https://m.media-amazon.com/images/I/81DYdZcXIRL._AC_UL320_.jpg\n",
      "https://m.media-amazon.com/images/I/81JxWA-m4SL._AC_UL320_.jpg\n",
      "https://m.media-amazon.com/images/I/71GiMiJq3eL._AC_UL320_.jpg\n",
      "https://m.media-amazon.com/images/I/917lVlYbdAL._AC_UL320_.jpg\n",
      "https://m.media-amazon.com/images/I/61dN+uBUsbL._AC_UL320_.jpg\n",
      "https://m.media-amazon.com/images/I/41fsKrTANJL._AC_UL320_.jpg\n",
      "https://m.media-amazon.com/images/I/81et7nKmZHL._AC_UL320_.jpg\n",
      "https://m.media-amazon.com/images/I/81zQm4+FtKL._AC_UL320_.jpg\n",
      "https://m.media-amazon.com/images/I/8143y75u4XL._AC_UL320_.jpg\n",
      "https://m.media-amazon.com/images/I/819rJ7eYf7L._AC_UL320_.jpg\n",
      "https://m.media-amazon.com/images/I/81V1rg4N2TL._AC_UL320_.jpg\n",
      "https://m.media-amazon.com/images/I/81EFTquo53L._AC_UL320_.jpg\n",
      "https://m.media-amazon.com/images/I/91Y+9PWplgL._AC_UL320_.jpg\n",
      "https://m.media-amazon.com/images/I/317a1vl2sDL._AC_UL320_.jpg\n",
      "https://m.media-amazon.com/images/I/81sD+lvkboL._AC_UL320_.jpg\n",
      "https://m.media-amazon.com/images/I/91Jv9+ACjaL._AC_UL320_.jpg\n"
     ]
    }
   ],
   "source": [
    "urls=[]\n",
    "for saree_image in sarees_images:\n",
    "    source = saree_image.get_attribute('src')\n",
    "    urls.append(source)\n",
    "    print(source)"
   ]
  },
  {
   "cell_type": "code",
   "execution_count": 53,
   "metadata": {},
   "outputs": [
    {
     "name": "stdout",
     "output_type": "stream",
     "text": [
      "Downloading 1 of 60 images for page 4\n",
      "Downloading 2 of 60 images for page 4\n",
      "Downloading 3 of 60 images for page 4\n",
      "Downloading 4 of 60 images for page 4\n",
      "Downloading 5 of 60 images for page 4\n",
      "Downloading 6 of 60 images for page 4\n",
      "Downloading 7 of 60 images for page 4\n",
      "Downloading 8 of 60 images for page 4\n",
      "Downloading 9 of 60 images for page 4\n",
      "Downloading 10 of 60 images for page 4\n",
      "Downloading 11 of 60 images for page 4\n",
      "Downloading 12 of 60 images for page 4\n",
      "Downloading 13 of 60 images for page 4\n",
      "Downloading 14 of 60 images for page 4\n",
      "Downloading 15 of 60 images for page 4\n",
      "Downloading 16 of 60 images for page 4\n",
      "Downloading 17 of 60 images for page 4\n",
      "Downloading 18 of 60 images for page 4\n",
      "Downloading 19 of 60 images for page 4\n",
      "Downloading 20 of 60 images for page 4\n",
      "Downloading 21 of 60 images for page 4\n",
      "Downloading 22 of 60 images for page 4\n",
      "Downloading 23 of 60 images for page 4\n",
      "Downloading 24 of 60 images for page 4\n",
      "Downloading 25 of 60 images for page 4\n",
      "Downloading 26 of 60 images for page 4\n",
      "Downloading 27 of 60 images for page 4\n",
      "Downloading 28 of 60 images for page 4\n",
      "Downloading 29 of 60 images for page 4\n",
      "Downloading 30 of 60 images for page 4\n",
      "Downloading 31 of 60 images for page 4\n",
      "Downloading 32 of 60 images for page 4\n",
      "Downloading 33 of 60 images for page 4\n",
      "Downloading 34 of 60 images for page 4\n",
      "Downloading 35 of 60 images for page 4\n",
      "Downloading 36 of 60 images for page 4\n",
      "Downloading 37 of 60 images for page 4\n",
      "Downloading 38 of 60 images for page 4\n",
      "Downloading 39 of 60 images for page 4\n",
      "Downloading 40 of 60 images for page 4\n",
      "Downloading 41 of 60 images for page 4\n",
      "Downloading 42 of 60 images for page 4\n",
      "Downloading 43 of 60 images for page 4\n",
      "Downloading 44 of 60 images for page 4\n",
      "Downloading 45 of 60 images for page 4\n",
      "Downloading 46 of 60 images for page 4\n",
      "Downloading 47 of 60 images for page 4\n",
      "Downloading 48 of 60 images for page 4\n",
      "Downloading 49 of 60 images for page 4\n",
      "Downloading 50 of 60 images for page 4\n",
      "Downloading 51 of 60 images for page 4\n",
      "Downloading 52 of 60 images for page 4\n",
      "Downloading 53 of 60 images for page 4\n",
      "Downloading 54 of 60 images for page 4\n",
      "Downloading 55 of 60 images for page 4\n",
      "Downloading 56 of 60 images for page 4\n",
      "Downloading 57 of 60 images for page 4\n",
      "Downloading 58 of 60 images for page 4\n",
      "Downloading 59 of 60 images for page 4\n",
      "Downloading 60 of 60 images for page 4\n"
     ]
    }
   ],
   "source": [
    "page=4\n",
    "for index, link in enumerate(urls):\n",
    "    print('Downloading {0} of {1} images for page 4'.format(index+1, len(urls)))\n",
    "    response=requests.get(link)\n",
    "    with open('Sarees Women/img{0}{1}.jpeg'.format(index,page),\"wb\")as file:\n",
    "        file.write(response.content)"
   ]
  },
  {
   "cell_type": "markdown",
   "metadata": {},
   "source": [
    "# Now Scrapping Men's Jeans"
   ]
  },
  {
   "cell_type": "code",
   "execution_count": 64,
   "metadata": {},
   "outputs": [],
   "source": [
    "jeans_page = driver.get(\"https://www.amazon.in/Jeans-50-Off-or-more-Men/s?rh=n%3A1968076031%2Cp_n_pct-off-with-tax%3A2665401031\")"
   ]
  },
  {
   "cell_type": "code",
   "execution_count": 65,
   "metadata": {},
   "outputs": [],
   "source": [
    "jeans_images=driver.find_elements_by_xpath(\"//img[@class ='s-image' ]\")"
   ]
  },
  {
   "cell_type": "code",
   "execution_count": 66,
   "metadata": {},
   "outputs": [
    {
     "data": {
      "text/plain": [
       "60"
      ]
     },
     "execution_count": 66,
     "metadata": {},
     "output_type": "execute_result"
    }
   ],
   "source": [
    "len(jeans_images)"
   ]
  },
  {
   "cell_type": "code",
   "execution_count": 67,
   "metadata": {},
   "outputs": [
    {
     "name": "stdout",
     "output_type": "stream",
     "text": [
      "https://m.media-amazon.com/images/I/51UlwkHPtmL._AC_UL320_.jpg\n",
      "https://m.media-amazon.com/images/I/81AB1QNtl1L._AC_UL320_.jpg\n",
      "https://m.media-amazon.com/images/I/81y+01WxbTL._AC_UL320_.jpg\n",
      "https://m.media-amazon.com/images/I/81QOFG46pKL._AC_UL320_.jpg\n",
      "https://m.media-amazon.com/images/I/616xchp1ECL._AC_UL320_.jpg\n",
      "https://m.media-amazon.com/images/I/61Don-d8JfL._AC_UL320_.jpg\n",
      "https://m.media-amazon.com/images/I/51UlwkHPtmL._AC_UL320_.jpg\n",
      "https://m.media-amazon.com/images/I/51PAjY776nL._AC_UL320_.jpg\n",
      "https://m.media-amazon.com/images/I/613aUOVUTyL._AC_UL320_.jpg\n",
      "https://m.media-amazon.com/images/I/618r4PBS73L._AC_UL320_.jpg\n",
      "https://m.media-amazon.com/images/I/61UZtv8GRtL._AC_UL320_.jpg\n",
      "https://m.media-amazon.com/images/I/611hFiiUv4L._AC_UL320_.jpg\n",
      "https://m.media-amazon.com/images/I/61TwfPRLhrL._AC_UL320_.jpg\n",
      "https://m.media-amazon.com/images/I/81m75ojT-1L._AC_UL320_.jpg\n",
      "https://m.media-amazon.com/images/I/81ZVm7gJ8PL._AC_UL320_.jpg\n",
      "https://m.media-amazon.com/images/I/61bgI-mrUUL._AC_UL320_.jpg\n",
      "https://m.media-amazon.com/images/I/818v2hyeiFL._AC_UL320_.jpg\n",
      "https://m.media-amazon.com/images/I/81+wlwY-1zL._AC_UL320_.jpg\n",
      "https://m.media-amazon.com/images/I/61rYsv0jpPL._AC_UL320_.jpg\n",
      "https://m.media-amazon.com/images/I/81TYscw9JOL._AC_UL320_.jpg\n",
      "https://m.media-amazon.com/images/I/81D+KVOvp2L._AC_UL320_.jpg\n",
      "https://m.media-amazon.com/images/I/81au4FfzaFL._AC_UL320_.jpg\n",
      "https://m.media-amazon.com/images/I/81rcMJm4kFL._AC_UL320_.jpg\n",
      "https://m.media-amazon.com/images/I/81v5d2OO-EL._AC_UL320_.jpg\n",
      "https://m.media-amazon.com/images/I/51NTO1DvzcL._AC_UL320_.jpg\n",
      "https://m.media-amazon.com/images/I/81wAqvZ4HWL._AC_UL320_.jpg\n",
      "https://m.media-amazon.com/images/I/71NRVDhXnoL._AC_UL320_.jpg\n",
      "https://m.media-amazon.com/images/I/61ZGXTSfA3L._AC_UL320_.jpg\n",
      "https://m.media-amazon.com/images/I/71IbGOvXhUL._AC_UL320_.jpg\n",
      "https://m.media-amazon.com/images/I/71zJGnP4-BL._AC_UL320_.jpg\n",
      "https://m.media-amazon.com/images/I/71m0W58-zQL._AC_UL320_.jpg\n",
      "https://m.media-amazon.com/images/I/81GA0uTdixL._AC_UL320_.jpg\n",
      "https://m.media-amazon.com/images/I/71yrEovAM0L._AC_UL320_.jpg\n",
      "https://m.media-amazon.com/images/I/71PlzRWMYpL._AC_UL320_.jpg\n",
      "https://m.media-amazon.com/images/I/71XhoCAoznL._AC_UL320_.jpg\n",
      "https://m.media-amazon.com/images/I/7147RgEPC6L._AC_UL320_.jpg\n",
      "https://m.media-amazon.com/images/I/714EXTMcpuL._AC_UL320_.jpg\n",
      "https://m.media-amazon.com/images/I/61+e1RZI11L._AC_UL320_.jpg\n",
      "https://m.media-amazon.com/images/I/61S5a0LL0sL._AC_UL320_.jpg\n",
      "https://m.media-amazon.com/images/I/61-D7SA4PRL._AC_UL320_.jpg\n",
      "https://m.media-amazon.com/images/I/61SCAuhMhPL._AC_UL320_.jpg\n",
      "https://m.media-amazon.com/images/I/817+lobyUxL._AC_UL320_.jpg\n",
      "https://m.media-amazon.com/images/I/71w4e08h2sL._AC_UL320_.jpg\n",
      "https://m.media-amazon.com/images/I/61PJp-UGw8L._AC_UL320_.jpg\n",
      "https://m.media-amazon.com/images/I/61xg9CpjNjL._AC_UL320_.jpg\n",
      "https://m.media-amazon.com/images/I/81ZfDha1c5L._AC_UL320_.jpg\n",
      "https://m.media-amazon.com/images/I/61z9M+39pxL._AC_UL320_.jpg\n",
      "https://m.media-amazon.com/images/I/71O9et28uaL._AC_UL320_.jpg\n",
      "https://m.media-amazon.com/images/I/81Op5HUd+1L._AC_UL320_.jpg\n",
      "https://m.media-amazon.com/images/I/713Hsryga4L._AC_UL320_.jpg\n",
      "https://m.media-amazon.com/images/I/61DzS5aOy4L._AC_UL320_.jpg\n",
      "https://m.media-amazon.com/images/I/91mXH+SEo7L._AC_UL320_.jpg\n",
      "https://m.media-amazon.com/images/I/617SAeg8hPL._AC_UL320_.jpg\n",
      "https://m.media-amazon.com/images/I/81XrwcKrN1L._AC_UL320_.jpg\n",
      "https://m.media-amazon.com/images/I/71vN1l2shkL._AC_UL320_.jpg\n",
      "https://m.media-amazon.com/images/I/81LLqdfObkL._AC_UL320_.jpg\n",
      "https://m.media-amazon.com/images/I/619XHJloNYL._AC_UL320_.jpg\n",
      "https://m.media-amazon.com/images/I/617L399rTqL._AC_UL320_.jpg\n",
      "https://m.media-amazon.com/images/I/61elermX69L._AC_UL320_.jpg\n",
      "https://m.media-amazon.com/images/I/81XrwcKrN1L._AC_UL320_.jpg\n"
     ]
    }
   ],
   "source": [
    "urls=[]\n",
    "for jeans_image in jeans_images:\n",
    "    source=jeans_image.get_attribute('src')\n",
    "    urls.append(source)\n",
    "    print(source)"
   ]
  },
  {
   "cell_type": "code",
   "execution_count": 68,
   "metadata": {},
   "outputs": [
    {
     "name": "stdout",
     "output_type": "stream",
     "text": [
      "Downloading 1 of 60 images from page 1\n",
      "Downloading 2 of 60 images from page 1\n",
      "Downloading 3 of 60 images from page 1\n",
      "Downloading 4 of 60 images from page 1\n",
      "Downloading 5 of 60 images from page 1\n",
      "Downloading 6 of 60 images from page 1\n",
      "Downloading 7 of 60 images from page 1\n",
      "Downloading 8 of 60 images from page 1\n",
      "Downloading 9 of 60 images from page 1\n",
      "Downloading 10 of 60 images from page 1\n",
      "Downloading 11 of 60 images from page 1\n",
      "Downloading 12 of 60 images from page 1\n",
      "Downloading 13 of 60 images from page 1\n",
      "Downloading 14 of 60 images from page 1\n",
      "Downloading 15 of 60 images from page 1\n",
      "Downloading 16 of 60 images from page 1\n",
      "Downloading 17 of 60 images from page 1\n",
      "Downloading 18 of 60 images from page 1\n",
      "Downloading 19 of 60 images from page 1\n",
      "Downloading 20 of 60 images from page 1\n",
      "Downloading 21 of 60 images from page 1\n",
      "Downloading 22 of 60 images from page 1\n",
      "Downloading 23 of 60 images from page 1\n",
      "Downloading 24 of 60 images from page 1\n",
      "Downloading 25 of 60 images from page 1\n",
      "Downloading 26 of 60 images from page 1\n",
      "Downloading 27 of 60 images from page 1\n",
      "Downloading 28 of 60 images from page 1\n",
      "Downloading 29 of 60 images from page 1\n",
      "Downloading 30 of 60 images from page 1\n",
      "Downloading 31 of 60 images from page 1\n",
      "Downloading 32 of 60 images from page 1\n",
      "Downloading 33 of 60 images from page 1\n",
      "Downloading 34 of 60 images from page 1\n",
      "Downloading 35 of 60 images from page 1\n",
      "Downloading 36 of 60 images from page 1\n",
      "Downloading 37 of 60 images from page 1\n",
      "Downloading 38 of 60 images from page 1\n",
      "Downloading 39 of 60 images from page 1\n",
      "Downloading 40 of 60 images from page 1\n",
      "Downloading 41 of 60 images from page 1\n",
      "Downloading 42 of 60 images from page 1\n",
      "Downloading 43 of 60 images from page 1\n",
      "Downloading 44 of 60 images from page 1\n",
      "Downloading 45 of 60 images from page 1\n",
      "Downloading 46 of 60 images from page 1\n",
      "Downloading 47 of 60 images from page 1\n",
      "Downloading 48 of 60 images from page 1\n",
      "Downloading 49 of 60 images from page 1\n",
      "Downloading 50 of 60 images from page 1\n",
      "Downloading 51 of 60 images from page 1\n",
      "Downloading 52 of 60 images from page 1\n",
      "Downloading 53 of 60 images from page 1\n",
      "Downloading 54 of 60 images from page 1\n",
      "Downloading 55 of 60 images from page 1\n",
      "Downloading 56 of 60 images from page 1\n",
      "Downloading 57 of 60 images from page 1\n",
      "Downloading 58 of 60 images from page 1\n",
      "Downloading 59 of 60 images from page 1\n",
      "Downloading 60 of 60 images from page 1\n"
     ]
    }
   ],
   "source": [
    "page=1\n",
    "for index, link in enumerate(urls):\n",
    "    print(\"Downloading {0} of {1} images from page 1\".format(index+1, len(urls)))\n",
    "    response=requests.get(link)\n",
    "    with open('Jeans Men/img{0}{1}.jpeg'.format(index,page),\"wb\")as file:\n",
    "        file.write(response.content)"
   ]
  },
  {
   "cell_type": "markdown",
   "metadata": {},
   "source": [
    "### Moving to Page 2"
   ]
  },
  {
   "cell_type": "code",
   "execution_count": 69,
   "metadata": {},
   "outputs": [],
   "source": [
    "#Now, we find the 'Next' button using x_path and using selenium we click it.\n",
    "next_page=driver.find_element_by_xpath(\"//li[@class = 'a-last']//a\").click()"
   ]
  },
  {
   "cell_type": "code",
   "execution_count": 70,
   "metadata": {},
   "outputs": [],
   "source": [
    "jeans_images=driver.find_elements_by_xpath(\"//img[@class ='s-image' ]\")"
   ]
  },
  {
   "cell_type": "code",
   "execution_count": 71,
   "metadata": {},
   "outputs": [
    {
     "data": {
      "text/plain": [
       "60"
      ]
     },
     "execution_count": 71,
     "metadata": {},
     "output_type": "execute_result"
    }
   ],
   "source": [
    "len(jeans_images)"
   ]
  },
  {
   "cell_type": "code",
   "execution_count": 72,
   "metadata": {},
   "outputs": [
    {
     "name": "stdout",
     "output_type": "stream",
     "text": [
      "https://m.media-amazon.com/images/I/51UlwkHPtmL._AC_UL320_.jpg\n",
      "https://m.media-amazon.com/images/I/81AB1QNtl1L._AC_UL320_.jpg\n",
      "https://m.media-amazon.com/images/I/81y+01WxbTL._AC_UL320_.jpg\n",
      "https://m.media-amazon.com/images/I/81QOFG46pKL._AC_UL320_.jpg\n",
      "https://m.media-amazon.com/images/I/81PPmFokY7L._AC_UL320_.jpg\n",
      "https://m.media-amazon.com/images/I/61nJ6tJX0VL._AC_UL320_.jpg\n",
      "https://m.media-amazon.com/images/I/813FdolTLFL._AC_UL320_.jpg\n",
      "https://m.media-amazon.com/images/I/81yts63FtIL._AC_UL320_.jpg\n",
      "https://m.media-amazon.com/images/I/71j2MP7jlWL._AC_UL320_.jpg\n",
      "https://m.media-amazon.com/images/I/61mvbOIlvQL._AC_UL320_.jpg\n",
      "https://m.media-amazon.com/images/I/61YB0H8a3gL._AC_UL320_.jpg\n",
      "https://m.media-amazon.com/images/I/61ctY7YIUhL._AC_UL320_.jpg\n",
      "https://m.media-amazon.com/images/I/91xtom0Za8L._AC_UL320_.jpg\n",
      "https://m.media-amazon.com/images/I/81GktRDyaAL._AC_UL320_.jpg\n",
      "https://m.media-amazon.com/images/I/611Uj4IofCL._AC_UL320_.jpg\n",
      "https://m.media-amazon.com/images/I/912o9vQKe6L._AC_UL320_.jpg\n",
      "https://m.media-amazon.com/images/I/613BWwlqTkL._AC_UL320_.jpg\n",
      "https://m.media-amazon.com/images/I/61YB0H8a3gL._AC_UL320_.jpg\n",
      "https://m.media-amazon.com/images/I/81gjMsPxIuL._AC_UL320_.jpg\n",
      "https://m.media-amazon.com/images/I/81V9Pk4rGOL._AC_UL320_.jpg\n",
      "https://m.media-amazon.com/images/I/61Gvg7wkexL._AC_UL320_.jpg\n",
      "https://m.media-amazon.com/images/I/71KlSNIwVvL._AC_UL320_.jpg\n",
      "https://m.media-amazon.com/images/I/61+ymeZjHJL._AC_UL320_.jpg\n",
      "https://m.media-amazon.com/images/I/81jdRmk4pgL._AC_UL320_.jpg\n",
      "https://m.media-amazon.com/images/I/71pHBgvYSPL._AC_UL320_.jpg\n",
      "https://m.media-amazon.com/images/I/81HXc8DEFNL._AC_UL320_.jpg\n",
      "https://m.media-amazon.com/images/I/817qmgbVlvL._AC_UL320_.jpg\n",
      "https://m.media-amazon.com/images/I/41s4My+nEDL._AC_UL320_.jpg\n",
      "https://m.media-amazon.com/images/I/71IbGOvXhUL._AC_UL320_.jpg\n",
      "https://m.media-amazon.com/images/I/71zJGnP4-BL._AC_UL320_.jpg\n",
      "https://m.media-amazon.com/images/I/81GA0uTdixL._AC_UL320_.jpg\n",
      "https://m.media-amazon.com/images/I/71m0W58-zQL._AC_UL320_.jpg\n",
      "https://m.media-amazon.com/images/I/619XHJloNYL._AC_UL320_.jpg\n",
      "https://m.media-amazon.com/images/I/81uPceyXCOL._AC_UL320_.jpg\n",
      "https://m.media-amazon.com/images/I/71YASqqpEEL._AC_UL320_.jpg\n",
      "https://m.media-amazon.com/images/I/81U2YOxCtLL._AC_UL320_.jpg\n",
      "https://m.media-amazon.com/images/I/81wq4UHtW7L._AC_UL320_.jpg\n",
      "https://m.media-amazon.com/images/I/81Z9fx6M3cL._AC_UL320_.jpg\n",
      "https://m.media-amazon.com/images/I/81WSgglrLBL._AC_UL320_.jpg\n",
      "https://m.media-amazon.com/images/I/61Ogr-nK2mL._AC_UL320_.jpg\n",
      "https://m.media-amazon.com/images/I/818ZwzKVZcL._AC_UL320_.jpg\n",
      "https://m.media-amazon.com/images/I/71m0W58-zQL._AC_UL320_.jpg\n",
      "https://m.media-amazon.com/images/I/81eacOuwECL._AC_UL320_.jpg\n",
      "https://m.media-amazon.com/images/I/91rFfkC-JcL._AC_UL320_.jpg\n",
      "https://m.media-amazon.com/images/I/61Udsu9LfVL._AC_UL320_.jpg\n",
      "https://m.media-amazon.com/images/I/71rXi12cbmL._AC_UL320_.jpg\n",
      "https://m.media-amazon.com/images/I/61aGmtzhdhL._AC_UL320_.jpg\n",
      "https://m.media-amazon.com/images/I/71HEmGIsJkL._AC_UL320_.jpg\n",
      "https://m.media-amazon.com/images/I/81bpqSFc5uL._AC_UL320_.jpg\n",
      "https://m.media-amazon.com/images/I/81KVewxjrNL._AC_UL320_.jpg\n",
      "https://m.media-amazon.com/images/I/91lFbU4aw6L._AC_UL320_.jpg\n",
      "https://m.media-amazon.com/images/I/71pgiVthnrL._AC_UL320_.jpg\n",
      "https://m.media-amazon.com/images/I/61ZMrMANV2L._AC_UL320_.jpg\n",
      "https://m.media-amazon.com/images/I/61yK+TRN6qL._AC_UL320_.jpg\n",
      "https://m.media-amazon.com/images/I/81Q7jW-OhDL._AC_UL320_.jpg\n",
      "https://m.media-amazon.com/images/I/71mpmKHUf6L._AC_UL320_.jpg\n",
      "https://m.media-amazon.com/images/I/619XHJloNYL._AC_UL320_.jpg\n",
      "https://m.media-amazon.com/images/I/617L399rTqL._AC_UL320_.jpg\n",
      "https://m.media-amazon.com/images/I/61elermX69L._AC_UL320_.jpg\n",
      "https://m.media-amazon.com/images/I/819AOlaR9IL._AC_UL320_.jpg\n"
     ]
    }
   ],
   "source": [
    "urls=[]\n",
    "for jeans_image in jeans_images:\n",
    "    source=jeans_image.get_attribute('src')\n",
    "    urls.append(source)\n",
    "    print(source)"
   ]
  },
  {
   "cell_type": "code",
   "execution_count": 73,
   "metadata": {},
   "outputs": [
    {
     "name": "stdout",
     "output_type": "stream",
     "text": [
      "Downloading 1 of 60 images from page 2\n",
      "Downloading 2 of 60 images from page 2\n",
      "Downloading 3 of 60 images from page 2\n",
      "Downloading 4 of 60 images from page 2\n",
      "Downloading 5 of 60 images from page 2\n",
      "Downloading 6 of 60 images from page 2\n",
      "Downloading 7 of 60 images from page 2\n",
      "Downloading 8 of 60 images from page 2\n",
      "Downloading 9 of 60 images from page 2\n",
      "Downloading 10 of 60 images from page 2\n",
      "Downloading 11 of 60 images from page 2\n",
      "Downloading 12 of 60 images from page 2\n",
      "Downloading 13 of 60 images from page 2\n",
      "Downloading 14 of 60 images from page 2\n",
      "Downloading 15 of 60 images from page 2\n",
      "Downloading 16 of 60 images from page 2\n",
      "Downloading 17 of 60 images from page 2\n",
      "Downloading 18 of 60 images from page 2\n",
      "Downloading 19 of 60 images from page 2\n",
      "Downloading 20 of 60 images from page 2\n",
      "Downloading 21 of 60 images from page 2\n",
      "Downloading 22 of 60 images from page 2\n",
      "Downloading 23 of 60 images from page 2\n",
      "Downloading 24 of 60 images from page 2\n",
      "Downloading 25 of 60 images from page 2\n",
      "Downloading 26 of 60 images from page 2\n",
      "Downloading 27 of 60 images from page 2\n",
      "Downloading 28 of 60 images from page 2\n",
      "Downloading 29 of 60 images from page 2\n",
      "Downloading 30 of 60 images from page 2\n",
      "Downloading 31 of 60 images from page 2\n",
      "Downloading 32 of 60 images from page 2\n",
      "Downloading 33 of 60 images from page 2\n",
      "Downloading 34 of 60 images from page 2\n",
      "Downloading 35 of 60 images from page 2\n",
      "Downloading 36 of 60 images from page 2\n",
      "Downloading 37 of 60 images from page 2\n",
      "Downloading 38 of 60 images from page 2\n",
      "Downloading 39 of 60 images from page 2\n",
      "Downloading 40 of 60 images from page 2\n",
      "Downloading 41 of 60 images from page 2\n",
      "Downloading 42 of 60 images from page 2\n",
      "Downloading 43 of 60 images from page 2\n",
      "Downloading 44 of 60 images from page 2\n",
      "Downloading 45 of 60 images from page 2\n",
      "Downloading 46 of 60 images from page 2\n",
      "Downloading 47 of 60 images from page 2\n",
      "Downloading 48 of 60 images from page 2\n",
      "Downloading 49 of 60 images from page 2\n",
      "Downloading 50 of 60 images from page 2\n",
      "Downloading 51 of 60 images from page 2\n",
      "Downloading 52 of 60 images from page 2\n",
      "Downloading 53 of 60 images from page 2\n",
      "Downloading 54 of 60 images from page 2\n",
      "Downloading 55 of 60 images from page 2\n",
      "Downloading 56 of 60 images from page 2\n",
      "Downloading 57 of 60 images from page 2\n",
      "Downloading 58 of 60 images from page 2\n",
      "Downloading 59 of 60 images from page 2\n",
      "Downloading 60 of 60 images from page 2\n"
     ]
    }
   ],
   "source": [
    "page=2\n",
    "for index, link in enumerate(urls):\n",
    "    print(\"Downloading {0} of {1} images from page 2\".format(index+1, len(urls)))\n",
    "    response=requests.get(link)\n",
    "    with open('Jeans Men/img{0}{1}.jpeg'.format(index,page),\"wb\")as file:\n",
    "        file.write(response.content)"
   ]
  },
  {
   "cell_type": "markdown",
   "metadata": {},
   "source": [
    "### Moving to Page 3"
   ]
  },
  {
   "cell_type": "code",
   "execution_count": 74,
   "metadata": {},
   "outputs": [],
   "source": [
    "#Now, we find the 'Next' button using x_path and using selenium we click it.\n",
    "next_page=driver.find_element_by_xpath(\"//li[@class = 'a-last']//a\").click()"
   ]
  },
  {
   "cell_type": "code",
   "execution_count": 75,
   "metadata": {},
   "outputs": [],
   "source": [
    "jeans_images=driver.find_elements_by_xpath(\"//img[@class ='s-image' ]\")"
   ]
  },
  {
   "cell_type": "code",
   "execution_count": 76,
   "metadata": {},
   "outputs": [
    {
     "data": {
      "text/plain": [
       "60"
      ]
     },
     "execution_count": 76,
     "metadata": {},
     "output_type": "execute_result"
    }
   ],
   "source": [
    "len(jeans_images)"
   ]
  },
  {
   "cell_type": "code",
   "execution_count": 77,
   "metadata": {},
   "outputs": [
    {
     "name": "stdout",
     "output_type": "stream",
     "text": [
      "https://m.media-amazon.com/images/I/51UlwkHPtmL._AC_UL320_.jpg\n",
      "https://m.media-amazon.com/images/I/81AB1QNtl1L._AC_UL320_.jpg\n",
      "https://m.media-amazon.com/images/I/81y+01WxbTL._AC_UL320_.jpg\n",
      "https://m.media-amazon.com/images/I/81QOFG46pKL._AC_UL320_.jpg\n",
      "https://m.media-amazon.com/images/I/81PPmFokY7L._AC_UL320_.jpg\n",
      "https://m.media-amazon.com/images/I/61nJ6tJX0VL._AC_UL320_.jpg\n",
      "https://m.media-amazon.com/images/I/813FdolTLFL._AC_UL320_.jpg\n",
      "https://m.media-amazon.com/images/I/81yts63FtIL._AC_UL320_.jpg\n",
      "https://m.media-amazon.com/images/I/71j2MP7jlWL._AC_UL320_.jpg\n",
      "https://m.media-amazon.com/images/I/61mvbOIlvQL._AC_UL320_.jpg\n",
      "https://m.media-amazon.com/images/I/61YB0H8a3gL._AC_UL320_.jpg\n",
      "https://m.media-amazon.com/images/I/61ctY7YIUhL._AC_UL320_.jpg\n",
      "https://m.media-amazon.com/images/I/91xtom0Za8L._AC_UL320_.jpg\n",
      "https://m.media-amazon.com/images/I/81GktRDyaAL._AC_UL320_.jpg\n",
      "https://m.media-amazon.com/images/I/611Uj4IofCL._AC_UL320_.jpg\n",
      "https://m.media-amazon.com/images/I/912o9vQKe6L._AC_UL320_.jpg\n",
      "https://m.media-amazon.com/images/I/613BWwlqTkL._AC_UL320_.jpg\n",
      "https://m.media-amazon.com/images/I/61YB0H8a3gL._AC_UL320_.jpg\n",
      "https://m.media-amazon.com/images/I/81gjMsPxIuL._AC_UL320_.jpg\n",
      "https://m.media-amazon.com/images/I/81V9Pk4rGOL._AC_UL320_.jpg\n",
      "https://m.media-amazon.com/images/I/61Gvg7wkexL._AC_UL320_.jpg\n",
      "https://m.media-amazon.com/images/I/71KlSNIwVvL._AC_UL320_.jpg\n",
      "https://m.media-amazon.com/images/I/61+ymeZjHJL._AC_UL320_.jpg\n",
      "https://m.media-amazon.com/images/I/81jdRmk4pgL._AC_UL320_.jpg\n",
      "https://m.media-amazon.com/images/I/71pHBgvYSPL._AC_UL320_.jpg\n",
      "https://m.media-amazon.com/images/I/81HXc8DEFNL._AC_UL320_.jpg\n",
      "https://m.media-amazon.com/images/I/817qmgbVlvL._AC_UL320_.jpg\n",
      "https://m.media-amazon.com/images/I/41s4My+nEDL._AC_UL320_.jpg\n",
      "https://m.media-amazon.com/images/I/71IbGOvXhUL._AC_UL320_.jpg\n",
      "https://m.media-amazon.com/images/I/71zJGnP4-BL._AC_UL320_.jpg\n",
      "https://m.media-amazon.com/images/I/81GA0uTdixL._AC_UL320_.jpg\n",
      "https://m.media-amazon.com/images/I/71m0W58-zQL._AC_UL320_.jpg\n",
      "https://m.media-amazon.com/images/I/619XHJloNYL._AC_UL320_.jpg\n",
      "https://m.media-amazon.com/images/I/81uPceyXCOL._AC_UL320_.jpg\n",
      "https://m.media-amazon.com/images/I/71YASqqpEEL._AC_UL320_.jpg\n",
      "https://m.media-amazon.com/images/I/81U2YOxCtLL._AC_UL320_.jpg\n",
      "https://m.media-amazon.com/images/I/81wq4UHtW7L._AC_UL320_.jpg\n",
      "https://m.media-amazon.com/images/I/81Z9fx6M3cL._AC_UL320_.jpg\n",
      "https://m.media-amazon.com/images/I/81WSgglrLBL._AC_UL320_.jpg\n",
      "https://m.media-amazon.com/images/I/61Ogr-nK2mL._AC_UL320_.jpg\n",
      "https://m.media-amazon.com/images/I/818ZwzKVZcL._AC_UL320_.jpg\n",
      "https://m.media-amazon.com/images/I/71m0W58-zQL._AC_UL320_.jpg\n",
      "https://m.media-amazon.com/images/I/81eacOuwECL._AC_UL320_.jpg\n",
      "https://m.media-amazon.com/images/I/91rFfkC-JcL._AC_UL320_.jpg\n",
      "https://m.media-amazon.com/images/I/61Udsu9LfVL._AC_UL320_.jpg\n",
      "https://m.media-amazon.com/images/I/71rXi12cbmL._AC_UL320_.jpg\n",
      "https://m.media-amazon.com/images/I/61aGmtzhdhL._AC_UL320_.jpg\n",
      "https://m.media-amazon.com/images/I/71HEmGIsJkL._AC_UL320_.jpg\n",
      "https://m.media-amazon.com/images/I/81bpqSFc5uL._AC_UL320_.jpg\n",
      "https://m.media-amazon.com/images/I/81KVewxjrNL._AC_UL320_.jpg\n",
      "https://m.media-amazon.com/images/I/91lFbU4aw6L._AC_UL320_.jpg\n",
      "https://m.media-amazon.com/images/I/71pgiVthnrL._AC_UL320_.jpg\n",
      "https://m.media-amazon.com/images/I/61ZMrMANV2L._AC_UL320_.jpg\n",
      "https://m.media-amazon.com/images/I/61yK+TRN6qL._AC_UL320_.jpg\n",
      "https://m.media-amazon.com/images/I/81Q7jW-OhDL._AC_UL320_.jpg\n",
      "https://m.media-amazon.com/images/I/71mpmKHUf6L._AC_UL320_.jpg\n",
      "https://m.media-amazon.com/images/I/619XHJloNYL._AC_UL320_.jpg\n",
      "https://m.media-amazon.com/images/I/617L399rTqL._AC_UL320_.jpg\n",
      "https://m.media-amazon.com/images/I/61elermX69L._AC_UL320_.jpg\n",
      "https://m.media-amazon.com/images/I/819AOlaR9IL._AC_UL320_.jpg\n"
     ]
    }
   ],
   "source": [
    "urls=[]\n",
    "for jeans_image in jeans_images:\n",
    "    source=jeans_image.get_attribute('src')\n",
    "    urls.append(source)\n",
    "    print(source)"
   ]
  },
  {
   "cell_type": "code",
   "execution_count": 78,
   "metadata": {},
   "outputs": [
    {
     "name": "stdout",
     "output_type": "stream",
     "text": [
      "Downloading 1 of 60 images from page 3\n",
      "Downloading 2 of 60 images from page 3\n",
      "Downloading 3 of 60 images from page 3\n",
      "Downloading 4 of 60 images from page 3\n",
      "Downloading 5 of 60 images from page 3\n",
      "Downloading 6 of 60 images from page 3\n",
      "Downloading 7 of 60 images from page 3\n",
      "Downloading 8 of 60 images from page 3\n",
      "Downloading 9 of 60 images from page 3\n",
      "Downloading 10 of 60 images from page 3\n",
      "Downloading 11 of 60 images from page 3\n",
      "Downloading 12 of 60 images from page 3\n",
      "Downloading 13 of 60 images from page 3\n",
      "Downloading 14 of 60 images from page 3\n",
      "Downloading 15 of 60 images from page 3\n",
      "Downloading 16 of 60 images from page 3\n",
      "Downloading 17 of 60 images from page 3\n",
      "Downloading 18 of 60 images from page 3\n",
      "Downloading 19 of 60 images from page 3\n",
      "Downloading 20 of 60 images from page 3\n",
      "Downloading 21 of 60 images from page 3\n",
      "Downloading 22 of 60 images from page 3\n",
      "Downloading 23 of 60 images from page 3\n",
      "Downloading 24 of 60 images from page 3\n",
      "Downloading 25 of 60 images from page 3\n",
      "Downloading 26 of 60 images from page 3\n",
      "Downloading 27 of 60 images from page 3\n",
      "Downloading 28 of 60 images from page 3\n",
      "Downloading 29 of 60 images from page 3\n",
      "Downloading 30 of 60 images from page 3\n",
      "Downloading 31 of 60 images from page 3\n",
      "Downloading 32 of 60 images from page 3\n",
      "Downloading 33 of 60 images from page 3\n",
      "Downloading 34 of 60 images from page 3\n",
      "Downloading 35 of 60 images from page 3\n",
      "Downloading 36 of 60 images from page 3\n",
      "Downloading 37 of 60 images from page 3\n",
      "Downloading 38 of 60 images from page 3\n",
      "Downloading 39 of 60 images from page 3\n",
      "Downloading 40 of 60 images from page 3\n",
      "Downloading 41 of 60 images from page 3\n",
      "Downloading 42 of 60 images from page 3\n",
      "Downloading 43 of 60 images from page 3\n",
      "Downloading 44 of 60 images from page 3\n",
      "Downloading 45 of 60 images from page 3\n",
      "Downloading 46 of 60 images from page 3\n",
      "Downloading 47 of 60 images from page 3\n",
      "Downloading 48 of 60 images from page 3\n",
      "Downloading 49 of 60 images from page 3\n",
      "Downloading 50 of 60 images from page 3\n",
      "Downloading 51 of 60 images from page 3\n",
      "Downloading 52 of 60 images from page 3\n",
      "Downloading 53 of 60 images from page 3\n",
      "Downloading 54 of 60 images from page 3\n",
      "Downloading 55 of 60 images from page 3\n",
      "Downloading 56 of 60 images from page 3\n",
      "Downloading 57 of 60 images from page 3\n",
      "Downloading 58 of 60 images from page 3\n",
      "Downloading 59 of 60 images from page 3\n",
      "Downloading 60 of 60 images from page 3\n"
     ]
    }
   ],
   "source": [
    "page=3\n",
    "for index, link in enumerate(urls):\n",
    "    print(\"Downloading {0} of {1} images from page 3\".format(index+1, len(urls)))\n",
    "    response=requests.get(link)\n",
    "    with open('Jeans Men/img{0}{1}.jpeg'.format(index,page),\"wb\")as file:\n",
    "        file.write(response.content)"
   ]
  },
  {
   "cell_type": "markdown",
   "metadata": {},
   "source": [
    "### Moving to Page 4"
   ]
  },
  {
   "cell_type": "code",
   "execution_count": 79,
   "metadata": {},
   "outputs": [],
   "source": [
    "#Now, we find the 'Next' button using x_path and using selenium we click it.\n",
    "next_page=driver.find_element_by_xpath(\"//li[@class = 'a-last']//a\").click()"
   ]
  },
  {
   "cell_type": "code",
   "execution_count": 80,
   "metadata": {},
   "outputs": [],
   "source": [
    "jeans_images=driver.find_elements_by_xpath(\"//img[@class ='s-image' ]\")"
   ]
  },
  {
   "cell_type": "code",
   "execution_count": 81,
   "metadata": {},
   "outputs": [
    {
     "data": {
      "text/plain": [
       "60"
      ]
     },
     "execution_count": 81,
     "metadata": {},
     "output_type": "execute_result"
    }
   ],
   "source": [
    "len(jeans_images)"
   ]
  },
  {
   "cell_type": "code",
   "execution_count": 82,
   "metadata": {},
   "outputs": [
    {
     "name": "stdout",
     "output_type": "stream",
     "text": [
      "https://m.media-amazon.com/images/I/51UlwkHPtmL._AC_UL320_.jpg\n",
      "https://m.media-amazon.com/images/I/81AB1QNtl1L._AC_UL320_.jpg\n",
      "https://m.media-amazon.com/images/I/81y+01WxbTL._AC_UL320_.jpg\n",
      "https://m.media-amazon.com/images/I/81QOFG46pKL._AC_UL320_.jpg\n",
      "https://m.media-amazon.com/images/I/81PPmFokY7L._AC_UL320_.jpg\n",
      "https://m.media-amazon.com/images/I/61nJ6tJX0VL._AC_UL320_.jpg\n",
      "https://m.media-amazon.com/images/I/813FdolTLFL._AC_UL320_.jpg\n",
      "https://m.media-amazon.com/images/I/81yts63FtIL._AC_UL320_.jpg\n",
      "https://m.media-amazon.com/images/I/71j2MP7jlWL._AC_UL320_.jpg\n",
      "https://m.media-amazon.com/images/I/61mvbOIlvQL._AC_UL320_.jpg\n",
      "https://m.media-amazon.com/images/I/61YB0H8a3gL._AC_UL320_.jpg\n",
      "https://m.media-amazon.com/images/I/61ctY7YIUhL._AC_UL320_.jpg\n",
      "https://m.media-amazon.com/images/I/91xtom0Za8L._AC_UL320_.jpg\n",
      "https://m.media-amazon.com/images/I/81GktRDyaAL._AC_UL320_.jpg\n",
      "https://m.media-amazon.com/images/I/611Uj4IofCL._AC_UL320_.jpg\n",
      "https://m.media-amazon.com/images/I/912o9vQKe6L._AC_UL320_.jpg\n",
      "https://m.media-amazon.com/images/I/613BWwlqTkL._AC_UL320_.jpg\n",
      "https://m.media-amazon.com/images/I/61YB0H8a3gL._AC_UL320_.jpg\n",
      "https://m.media-amazon.com/images/I/81gjMsPxIuL._AC_UL320_.jpg\n",
      "https://m.media-amazon.com/images/I/81V9Pk4rGOL._AC_UL320_.jpg\n",
      "https://m.media-amazon.com/images/I/61Gvg7wkexL._AC_UL320_.jpg\n",
      "https://m.media-amazon.com/images/I/71KlSNIwVvL._AC_UL320_.jpg\n",
      "https://m.media-amazon.com/images/I/61+ymeZjHJL._AC_UL320_.jpg\n",
      "https://m.media-amazon.com/images/I/81jdRmk4pgL._AC_UL320_.jpg\n",
      "https://m.media-amazon.com/images/I/71pHBgvYSPL._AC_UL320_.jpg\n",
      "https://m.media-amazon.com/images/I/81HXc8DEFNL._AC_UL320_.jpg\n",
      "https://m.media-amazon.com/images/I/817qmgbVlvL._AC_UL320_.jpg\n",
      "https://m.media-amazon.com/images/I/41s4My+nEDL._AC_UL320_.jpg\n",
      "https://m.media-amazon.com/images/I/71IbGOvXhUL._AC_UL320_.jpg\n",
      "https://m.media-amazon.com/images/I/71zJGnP4-BL._AC_UL320_.jpg\n",
      "https://m.media-amazon.com/images/I/81GA0uTdixL._AC_UL320_.jpg\n",
      "https://m.media-amazon.com/images/I/71m0W58-zQL._AC_UL320_.jpg\n",
      "https://m.media-amazon.com/images/I/619XHJloNYL._AC_UL320_.jpg\n",
      "https://m.media-amazon.com/images/I/81uPceyXCOL._AC_UL320_.jpg\n",
      "https://m.media-amazon.com/images/I/71YASqqpEEL._AC_UL320_.jpg\n",
      "https://m.media-amazon.com/images/I/81U2YOxCtLL._AC_UL320_.jpg\n",
      "https://m.media-amazon.com/images/I/81wq4UHtW7L._AC_UL320_.jpg\n",
      "https://m.media-amazon.com/images/I/81Z9fx6M3cL._AC_UL320_.jpg\n",
      "https://m.media-amazon.com/images/I/81WSgglrLBL._AC_UL320_.jpg\n",
      "https://m.media-amazon.com/images/I/61Ogr-nK2mL._AC_UL320_.jpg\n",
      "https://m.media-amazon.com/images/I/818ZwzKVZcL._AC_UL320_.jpg\n",
      "https://m.media-amazon.com/images/I/71m0W58-zQL._AC_UL320_.jpg\n",
      "https://m.media-amazon.com/images/I/81eacOuwECL._AC_UL320_.jpg\n",
      "https://m.media-amazon.com/images/I/91rFfkC-JcL._AC_UL320_.jpg\n",
      "https://m.media-amazon.com/images/I/61Udsu9LfVL._AC_UL320_.jpg\n",
      "https://m.media-amazon.com/images/I/71rXi12cbmL._AC_UL320_.jpg\n",
      "https://m.media-amazon.com/images/I/61aGmtzhdhL._AC_UL320_.jpg\n",
      "https://m.media-amazon.com/images/I/71HEmGIsJkL._AC_UL320_.jpg\n",
      "https://m.media-amazon.com/images/I/81bpqSFc5uL._AC_UL320_.jpg\n",
      "https://m.media-amazon.com/images/I/81KVewxjrNL._AC_UL320_.jpg\n",
      "https://m.media-amazon.com/images/I/91lFbU4aw6L._AC_UL320_.jpg\n",
      "https://m.media-amazon.com/images/I/71pgiVthnrL._AC_UL320_.jpg\n",
      "https://m.media-amazon.com/images/I/61ZMrMANV2L._AC_UL320_.jpg\n",
      "https://m.media-amazon.com/images/I/61yK+TRN6qL._AC_UL320_.jpg\n",
      "https://m.media-amazon.com/images/I/81Q7jW-OhDL._AC_UL320_.jpg\n",
      "https://m.media-amazon.com/images/I/71mpmKHUf6L._AC_UL320_.jpg\n",
      "https://m.media-amazon.com/images/I/619XHJloNYL._AC_UL320_.jpg\n",
      "https://m.media-amazon.com/images/I/617L399rTqL._AC_UL320_.jpg\n",
      "https://m.media-amazon.com/images/I/61elermX69L._AC_UL320_.jpg\n",
      "https://m.media-amazon.com/images/I/819AOlaR9IL._AC_UL320_.jpg\n"
     ]
    }
   ],
   "source": [
    "urls=[]\n",
    "for jeans_image in jeans_images:\n",
    "    source=jeans_image.get_attribute('src')\n",
    "    urls.append(source)\n",
    "    print(source)"
   ]
  },
  {
   "cell_type": "code",
   "execution_count": 83,
   "metadata": {},
   "outputs": [
    {
     "name": "stdout",
     "output_type": "stream",
     "text": [
      "Downloading 1 of 60 images from page 4\n",
      "Downloading 2 of 60 images from page 4\n",
      "Downloading 3 of 60 images from page 4\n",
      "Downloading 4 of 60 images from page 4\n",
      "Downloading 5 of 60 images from page 4\n",
      "Downloading 6 of 60 images from page 4\n",
      "Downloading 7 of 60 images from page 4\n",
      "Downloading 8 of 60 images from page 4\n",
      "Downloading 9 of 60 images from page 4\n",
      "Downloading 10 of 60 images from page 4\n",
      "Downloading 11 of 60 images from page 4\n",
      "Downloading 12 of 60 images from page 4\n",
      "Downloading 13 of 60 images from page 4\n",
      "Downloading 14 of 60 images from page 4\n",
      "Downloading 15 of 60 images from page 4\n",
      "Downloading 16 of 60 images from page 4\n",
      "Downloading 17 of 60 images from page 4\n",
      "Downloading 18 of 60 images from page 4\n",
      "Downloading 19 of 60 images from page 4\n",
      "Downloading 20 of 60 images from page 4\n",
      "Downloading 21 of 60 images from page 4\n",
      "Downloading 22 of 60 images from page 4\n",
      "Downloading 23 of 60 images from page 4\n",
      "Downloading 24 of 60 images from page 4\n",
      "Downloading 25 of 60 images from page 4\n",
      "Downloading 26 of 60 images from page 4\n",
      "Downloading 27 of 60 images from page 4\n",
      "Downloading 28 of 60 images from page 4\n",
      "Downloading 29 of 60 images from page 4\n",
      "Downloading 30 of 60 images from page 4\n",
      "Downloading 31 of 60 images from page 4\n",
      "Downloading 32 of 60 images from page 4\n",
      "Downloading 33 of 60 images from page 4\n",
      "Downloading 34 of 60 images from page 4\n",
      "Downloading 35 of 60 images from page 4\n",
      "Downloading 36 of 60 images from page 4\n",
      "Downloading 37 of 60 images from page 4\n",
      "Downloading 38 of 60 images from page 4\n",
      "Downloading 39 of 60 images from page 4\n",
      "Downloading 40 of 60 images from page 4\n",
      "Downloading 41 of 60 images from page 4\n",
      "Downloading 42 of 60 images from page 4\n",
      "Downloading 43 of 60 images from page 4\n",
      "Downloading 44 of 60 images from page 4\n",
      "Downloading 45 of 60 images from page 4\n",
      "Downloading 46 of 60 images from page 4\n",
      "Downloading 47 of 60 images from page 4\n",
      "Downloading 48 of 60 images from page 4\n",
      "Downloading 49 of 60 images from page 4\n",
      "Downloading 50 of 60 images from page 4\n",
      "Downloading 51 of 60 images from page 4\n",
      "Downloading 52 of 60 images from page 4\n",
      "Downloading 53 of 60 images from page 4\n",
      "Downloading 54 of 60 images from page 4\n",
      "Downloading 55 of 60 images from page 4\n",
      "Downloading 56 of 60 images from page 4\n",
      "Downloading 57 of 60 images from page 4\n",
      "Downloading 58 of 60 images from page 4\n",
      "Downloading 59 of 60 images from page 4\n",
      "Downloading 60 of 60 images from page 4\n"
     ]
    }
   ],
   "source": [
    "page=4\n",
    "for index, link in enumerate(urls):\n",
    "    print(\"Downloading {0} of {1} images from page 4\".format(index+1, len(urls)))\n",
    "    response=requests.get(link)\n",
    "    with open('Jeans Men/img{0}{1}.jpeg'.format(index,page),\"wb\")as file:\n",
    "        file.write(response.content)"
   ]
  },
  {
   "cell_type": "markdown",
   "metadata": {},
   "source": [
    "# Now Scrapping Men's Trouser"
   ]
  },
  {
   "cell_type": "code",
   "execution_count": 88,
   "metadata": {},
   "outputs": [],
   "source": [
    "trouser_page=driver.get('https://www.amazon.in/s?rh=n%3A1968125031&fs=true&ref=lp_1968125031_sar')"
   ]
  },
  {
   "cell_type": "code",
   "execution_count": 89,
   "metadata": {},
   "outputs": [],
   "source": [
    "trouser_images=driver.find_elements_by_xpath(\"//img[@class ='s-image' ]\")"
   ]
  },
  {
   "cell_type": "code",
   "execution_count": 90,
   "metadata": {},
   "outputs": [
    {
     "data": {
      "text/plain": [
       "60"
      ]
     },
     "execution_count": 90,
     "metadata": {},
     "output_type": "execute_result"
    }
   ],
   "source": [
    "len(trouser_images)"
   ]
  },
  {
   "cell_type": "code",
   "execution_count": 91,
   "metadata": {},
   "outputs": [
    {
     "name": "stdout",
     "output_type": "stream",
     "text": [
      "https://m.media-amazon.com/images/I/718S+pk0GZL._AC_UL320_.jpg\n",
      "https://m.media-amazon.com/images/I/51vHPTmdHgL._AC_UL320_.jpg\n",
      "https://m.media-amazon.com/images/I/71wRqpTsJKL._AC_UL320_.jpg\n",
      "https://m.media-amazon.com/images/I/51hDKCsS4JL._AC_UL320_.jpg\n",
      "https://m.media-amazon.com/images/I/81Lg1x1O29L._AC_UL320_.jpg\n",
      "https://m.media-amazon.com/images/I/81aKPu-Gl-L._AC_UL320_.jpg\n",
      "https://m.media-amazon.com/images/I/61ELAf0ZLcL._AC_UL320_.jpg\n",
      "https://m.media-amazon.com/images/I/81d37fLAwUL._AC_UL320_.jpg\n",
      "https://m.media-amazon.com/images/I/61KwCbPkOyL._AC_UL320_.jpg\n",
      "https://m.media-amazon.com/images/I/71J4eD0bqQL._AC_UL320_.jpg\n",
      "https://m.media-amazon.com/images/I/71bZfPvkpIL._AC_UL320_.jpg\n",
      "https://m.media-amazon.com/images/I/81-9O33VgBL._AC_UL320_.jpg\n",
      "https://m.media-amazon.com/images/I/81RQWN2nENL._AC_UL320_.jpg\n",
      "https://m.media-amazon.com/images/I/71o4Wrj45oL._AC_UL320_.jpg\n",
      "https://m.media-amazon.com/images/I/813u-pAoqOL._AC_UL320_.jpg\n",
      "https://m.media-amazon.com/images/I/71lD6Zr4V3L._AC_UL320_.jpg\n",
      "https://m.media-amazon.com/images/I/51H86JddBWL._AC_UL320_.jpg\n",
      "https://m.media-amazon.com/images/I/61NKxXc+lIL._AC_UL320_.jpg\n",
      "https://m.media-amazon.com/images/I/61Ri6MUj3qL._AC_UL320_.jpg\n",
      "https://m.media-amazon.com/images/I/61pRJxuoRQL._AC_UL320_.jpg\n",
      "https://m.media-amazon.com/images/I/31-B5B0mEDL._AC_UL320_.jpg\n",
      "https://m.media-amazon.com/images/I/71XNKLBwy9L._AC_UL320_.jpg\n",
      "https://m.media-amazon.com/images/I/61MwykW9VsL._AC_UL320_.jpg\n",
      "https://m.media-amazon.com/images/I/71ESlnVyI2L._AC_UL320_.jpg\n",
      "https://m.media-amazon.com/images/I/71dvIDrJkVL._AC_UL320_.jpg\n",
      "https://m.media-amazon.com/images/I/51j+7DGQDyL._AC_UL320_.jpg\n",
      "https://m.media-amazon.com/images/I/61seDzWStbL._AC_UL320_.jpg\n",
      "https://m.media-amazon.com/images/I/71ij9BXtILL._AC_UL320_.jpg\n",
      "https://m.media-amazon.com/images/I/81dNUf36zKL._AC_UL320_.jpg\n",
      "https://m.media-amazon.com/images/I/71UCDZJAj0L._AC_UL320_.jpg\n",
      "https://m.media-amazon.com/images/I/717qYkABf8L._AC_UL320_.jpg\n",
      "https://m.media-amazon.com/images/I/81g6ECoJ+RL._AC_UL320_.jpg\n",
      "https://m.media-amazon.com/images/I/81V+cLWewjL._AC_UL320_.jpg\n",
      "https://m.media-amazon.com/images/I/81vOn7CyUWL._AC_UL320_.jpg\n",
      "https://m.media-amazon.com/images/I/81e9hGPqolL._AC_UL320_.jpg\n",
      "https://m.media-amazon.com/images/I/71ba655rWYL._AC_UL320_.jpg\n",
      "https://m.media-amazon.com/images/I/71pgtmd8FpL._AC_UL320_.jpg\n",
      "https://m.media-amazon.com/images/I/71zLO45349L._AC_UL320_.jpg\n",
      "https://m.media-amazon.com/images/I/71XHgV07eCL._AC_UL320_.jpg\n",
      "https://m.media-amazon.com/images/I/71azV0bA62L._AC_UL320_.jpg\n",
      "https://m.media-amazon.com/images/I/712DgzsqUSL._AC_UL320_.jpg\n",
      "https://m.media-amazon.com/images/I/614R38jQjIL._AC_UL320_.jpg\n",
      "https://m.media-amazon.com/images/I/718AoRx9hgL._AC_UL320_.jpg\n",
      "https://m.media-amazon.com/images/I/919ONwO7HnL._AC_UL320_.jpg\n",
      "https://m.media-amazon.com/images/I/71tNxiDoFlL._AC_UL320_.jpg\n",
      "https://m.media-amazon.com/images/I/61jQCh4M0uL._AC_UL320_.jpg\n",
      "https://m.media-amazon.com/images/I/710fA4BBqpL._AC_UL320_.jpg\n",
      "https://m.media-amazon.com/images/I/71IBErTkAgL._AC_UL320_.jpg\n",
      "https://m.media-amazon.com/images/I/61PfB8ObhVL._AC_UL320_.jpg\n",
      "https://m.media-amazon.com/images/I/71jfz6ObDfL._AC_UL320_.jpg\n",
      "https://m.media-amazon.com/images/I/71+G0cuRNvL._AC_UL320_.jpg\n",
      "https://m.media-amazon.com/images/I/81UwKKEVb1L._AC_UL320_.jpg\n",
      "https://m.media-amazon.com/images/I/71yIZJdC28L._AC_UL320_.jpg\n",
      "https://m.media-amazon.com/images/I/61DDTK7BN-L._AC_UL320_.jpg\n",
      "https://m.media-amazon.com/images/I/71qzQWoqDvL._AC_UL320_.jpg\n",
      "https://m.media-amazon.com/images/I/81AtPWxSAyL._AC_UL320_.jpg\n",
      "https://m.media-amazon.com/images/I/61C-NgrKlCL._AC_UL320_.jpg\n",
      "https://m.media-amazon.com/images/I/71Q2RHHZWSL._AC_UL320_.jpg\n",
      "https://m.media-amazon.com/images/I/719Rqaqc3ML._AC_UL320_.jpg\n",
      "https://m.media-amazon.com/images/I/71v8LUgjaRL._AC_UL320_.jpg\n"
     ]
    }
   ],
   "source": [
    "urls=[]\n",
    "for trouser_image in trouser_images:\n",
    "    source=trouser_image.get_attribute('src')\n",
    "    urls.append(source)\n",
    "    print(source)"
   ]
  },
  {
   "cell_type": "code",
   "execution_count": 92,
   "metadata": {},
   "outputs": [
    {
     "name": "stdout",
     "output_type": "stream",
     "text": [
      "Downloading 1 of 60 images from page 1\n",
      "Downloading 2 of 60 images from page 1\n",
      "Downloading 3 of 60 images from page 1\n",
      "Downloading 4 of 60 images from page 1\n",
      "Downloading 5 of 60 images from page 1\n",
      "Downloading 6 of 60 images from page 1\n",
      "Downloading 7 of 60 images from page 1\n",
      "Downloading 8 of 60 images from page 1\n",
      "Downloading 9 of 60 images from page 1\n",
      "Downloading 10 of 60 images from page 1\n",
      "Downloading 11 of 60 images from page 1\n",
      "Downloading 12 of 60 images from page 1\n",
      "Downloading 13 of 60 images from page 1\n",
      "Downloading 14 of 60 images from page 1\n",
      "Downloading 15 of 60 images from page 1\n",
      "Downloading 16 of 60 images from page 1\n",
      "Downloading 17 of 60 images from page 1\n",
      "Downloading 18 of 60 images from page 1\n",
      "Downloading 19 of 60 images from page 1\n",
      "Downloading 20 of 60 images from page 1\n",
      "Downloading 21 of 60 images from page 1\n",
      "Downloading 22 of 60 images from page 1\n",
      "Downloading 23 of 60 images from page 1\n",
      "Downloading 24 of 60 images from page 1\n",
      "Downloading 25 of 60 images from page 1\n",
      "Downloading 26 of 60 images from page 1\n",
      "Downloading 27 of 60 images from page 1\n",
      "Downloading 28 of 60 images from page 1\n",
      "Downloading 29 of 60 images from page 1\n",
      "Downloading 30 of 60 images from page 1\n",
      "Downloading 31 of 60 images from page 1\n",
      "Downloading 32 of 60 images from page 1\n",
      "Downloading 33 of 60 images from page 1\n",
      "Downloading 34 of 60 images from page 1\n",
      "Downloading 35 of 60 images from page 1\n",
      "Downloading 36 of 60 images from page 1\n",
      "Downloading 37 of 60 images from page 1\n",
      "Downloading 38 of 60 images from page 1\n",
      "Downloading 39 of 60 images from page 1\n",
      "Downloading 40 of 60 images from page 1\n",
      "Downloading 41 of 60 images from page 1\n",
      "Downloading 42 of 60 images from page 1\n",
      "Downloading 43 of 60 images from page 1\n",
      "Downloading 44 of 60 images from page 1\n",
      "Downloading 45 of 60 images from page 1\n",
      "Downloading 46 of 60 images from page 1\n",
      "Downloading 47 of 60 images from page 1\n",
      "Downloading 48 of 60 images from page 1\n",
      "Downloading 49 of 60 images from page 1\n",
      "Downloading 50 of 60 images from page 1\n",
      "Downloading 51 of 60 images from page 1\n",
      "Downloading 52 of 60 images from page 1\n",
      "Downloading 53 of 60 images from page 1\n",
      "Downloading 54 of 60 images from page 1\n",
      "Downloading 55 of 60 images from page 1\n",
      "Downloading 56 of 60 images from page 1\n",
      "Downloading 57 of 60 images from page 1\n",
      "Downloading 58 of 60 images from page 1\n",
      "Downloading 59 of 60 images from page 1\n",
      "Downloading 60 of 60 images from page 1\n"
     ]
    }
   ],
   "source": [
    "page=1\n",
    "for index, link in enumerate(urls):\n",
    "    print(\"Downloading {0} of {1} images from page 1\".format(index+1, len(urls)))\n",
    "    response=requests.get(link)\n",
    "    with open('Trousers Men/img{0}{1}.jpeg'.format(index,page),\"wb\")as file:\n",
    "        file.write(response.content)"
   ]
  },
  {
   "cell_type": "markdown",
   "metadata": {},
   "source": [
    "### Moving to Page 2"
   ]
  },
  {
   "cell_type": "code",
   "execution_count": 93,
   "metadata": {},
   "outputs": [],
   "source": [
    "next_page=driver.find_element_by_xpath(\"//li[@class = 'a-last']//a\").click()"
   ]
  },
  {
   "cell_type": "code",
   "execution_count": 94,
   "metadata": {},
   "outputs": [],
   "source": [
    "trouser_images=driver.find_elements_by_xpath(\"//img[@class ='s-image' ]\")"
   ]
  },
  {
   "cell_type": "code",
   "execution_count": 95,
   "metadata": {},
   "outputs": [
    {
     "data": {
      "text/plain": [
       "60"
      ]
     },
     "execution_count": 95,
     "metadata": {},
     "output_type": "execute_result"
    }
   ],
   "source": [
    "len(trouser_images)"
   ]
  },
  {
   "cell_type": "code",
   "execution_count": 96,
   "metadata": {},
   "outputs": [
    {
     "name": "stdout",
     "output_type": "stream",
     "text": [
      "https://m.media-amazon.com/images/I/718S+pk0GZL._AC_UL320_.jpg\n",
      "https://m.media-amazon.com/images/I/51vHPTmdHgL._AC_UL320_.jpg\n",
      "https://m.media-amazon.com/images/I/71wRqpTsJKL._AC_UL320_.jpg\n",
      "https://m.media-amazon.com/images/I/51hDKCsS4JL._AC_UL320_.jpg\n",
      "https://m.media-amazon.com/images/I/61WnnOJHFML._AC_UL320_.jpg\n",
      "https://m.media-amazon.com/images/I/313Ga-+JnwL._AC_UL320_.jpg\n",
      "https://m.media-amazon.com/images/I/31DLX2xvIOL._AC_UL320_.jpg\n",
      "https://m.media-amazon.com/images/I/610obmvmQfL._AC_UL320_.jpg\n",
      "https://m.media-amazon.com/images/I/911kLt8dvbL._AC_UL320_.jpg\n",
      "https://m.media-amazon.com/images/I/41i8-8fWKGL._AC_UL320_.jpg\n",
      "https://m.media-amazon.com/images/I/61Q2Mf73SlL._AC_UL320_.jpg\n",
      "https://m.media-amazon.com/images/I/51iwhxFYKmL._AC_UL320_.jpg\n",
      "https://m.media-amazon.com/images/I/81cgAFX29oL._AC_UL320_.jpg\n",
      "https://m.media-amazon.com/images/I/71u47o-yKnL._AC_UL320_.jpg\n",
      "https://m.media-amazon.com/images/I/71gpDZ7uWpL._AC_UL320_.jpg\n",
      "https://m.media-amazon.com/images/I/71wxSLHjfAL._AC_UL320_.jpg\n",
      "https://m.media-amazon.com/images/I/81lJwMsvB3L._AC_UL320_.jpg\n",
      "https://m.media-amazon.com/images/I/71tHnPbUjVL._AC_UL320_.jpg\n",
      "https://m.media-amazon.com/images/I/81teKjNigbL._AC_UL320_.jpg\n",
      "https://m.media-amazon.com/images/I/71vxfK2yhcL._AC_UL320_.jpg\n",
      "https://m.media-amazon.com/images/I/31BjWLuAX5L._AC_UL320_.jpg\n",
      "https://m.media-amazon.com/images/I/81zoWq6v9DL._AC_UL320_.jpg\n",
      "https://m.media-amazon.com/images/I/71N5IxTDbpL._AC_UL320_.jpg\n",
      "https://m.media-amazon.com/images/I/61T6Q6We-nL._AC_UL320_.jpg\n",
      "https://m.media-amazon.com/images/I/71FZpjrkc3L._AC_UL320_.jpg\n",
      "https://m.media-amazon.com/images/I/71haKlhpIgL._AC_UL320_.jpg\n",
      "https://m.media-amazon.com/images/I/71ooEqQarPL._AC_UL320_.jpg\n",
      "https://m.media-amazon.com/images/I/61fPJ1Qqb3L._AC_UL320_.jpg\n",
      "https://m.media-amazon.com/images/I/61C-NgrKlCL._AC_UL320_.jpg\n",
      "https://m.media-amazon.com/images/I/71UCDZJAj0L._AC_UL320_.jpg\n",
      "https://m.media-amazon.com/images/I/717qYkABf8L._AC_UL320_.jpg\n",
      "https://m.media-amazon.com/images/I/51GPPdnaZCL._AC_UL320_.jpg\n",
      "https://m.media-amazon.com/images/I/61TsX0Gn73L._AC_UL320_.jpg\n",
      "https://m.media-amazon.com/images/I/61f195vtBKL._AC_UL320_.jpg\n",
      "https://m.media-amazon.com/images/I/81BmbWD5l5L._AC_UL320_.jpg\n",
      "https://m.media-amazon.com/images/I/71vdKuDdR7L._AC_UL320_.jpg\n",
      "https://m.media-amazon.com/images/I/31QYXZdXqtL._AC_UL320_.jpg\n",
      "https://m.media-amazon.com/images/I/71+mIAH6umL._AC_UL320_.jpg\n",
      "https://m.media-amazon.com/images/I/61p5zV1aOeL._AC_UL320_.jpg\n",
      "https://m.media-amazon.com/images/I/610wK6ZUJOL._AC_UL320_.jpg\n",
      "https://m.media-amazon.com/images/I/61f5zNmCY1L._AC_UL320_.jpg\n",
      "https://m.media-amazon.com/images/I/31Fu9RijEFL._AC_UL320_.jpg\n",
      "https://m.media-amazon.com/images/I/71n+e3ZrggL._AC_UL320_.jpg\n",
      "https://m.media-amazon.com/images/I/71XKygB9u7L._AC_UL320_.jpg\n",
      "https://m.media-amazon.com/images/I/41y8WJpHigL._AC_UL320_.jpg\n",
      "https://m.media-amazon.com/images/I/41nydF2cKbL._AC_UL320_.jpg\n",
      "https://m.media-amazon.com/images/I/71f81hamthL._AC_UL320_.jpg\n",
      "https://m.media-amazon.com/images/I/81O9HG8ydFL._AC_UL320_.jpg\n",
      "https://m.media-amazon.com/images/I/71ETLX5vIQL._AC_UL320_.jpg\n",
      "https://m.media-amazon.com/images/I/71-3JogmPnL._AC_UL320_.jpg\n",
      "https://m.media-amazon.com/images/I/513JgXuAAwL._AC_UL320_.jpg\n",
      "https://m.media-amazon.com/images/I/71BncDzkYaL._AC_UL320_.jpg\n",
      "https://m.media-amazon.com/images/I/71kdVCKPy3L._AC_UL320_.jpg\n",
      "https://m.media-amazon.com/images/I/715qwDpY3TL._AC_UL320_.jpg\n",
      "https://m.media-amazon.com/images/I/81syA1RnVmL._AC_UL320_.jpg\n",
      "https://m.media-amazon.com/images/I/611ZoqIfN1L._AC_UL320_.jpg\n",
      "https://m.media-amazon.com/images/I/81g6ECoJ+RL._AC_UL320_.jpg\n",
      "https://m.media-amazon.com/images/I/71Q2RHHZWSL._AC_UL320_.jpg\n",
      "https://m.media-amazon.com/images/I/51PAvYvziBL._AC_UL320_.jpg\n",
      "https://m.media-amazon.com/images/I/71Cqu39IEBL._AC_UL320_.jpg\n"
     ]
    }
   ],
   "source": [
    "urls=[]\n",
    "for trouser_image in trouser_images:\n",
    "    source=trouser_image.get_attribute('src')\n",
    "    urls.append(source)\n",
    "    print(source)"
   ]
  },
  {
   "cell_type": "code",
   "execution_count": 97,
   "metadata": {},
   "outputs": [
    {
     "name": "stdout",
     "output_type": "stream",
     "text": [
      "Downloading 1 of 60 images from page 2\n",
      "Downloading 2 of 60 images from page 2\n",
      "Downloading 3 of 60 images from page 2\n",
      "Downloading 4 of 60 images from page 2\n",
      "Downloading 5 of 60 images from page 2\n",
      "Downloading 6 of 60 images from page 2\n",
      "Downloading 7 of 60 images from page 2\n",
      "Downloading 8 of 60 images from page 2\n",
      "Downloading 9 of 60 images from page 2\n",
      "Downloading 10 of 60 images from page 2\n",
      "Downloading 11 of 60 images from page 2\n",
      "Downloading 12 of 60 images from page 2\n",
      "Downloading 13 of 60 images from page 2\n",
      "Downloading 14 of 60 images from page 2\n",
      "Downloading 15 of 60 images from page 2\n",
      "Downloading 16 of 60 images from page 2\n",
      "Downloading 17 of 60 images from page 2\n",
      "Downloading 18 of 60 images from page 2\n",
      "Downloading 19 of 60 images from page 2\n",
      "Downloading 20 of 60 images from page 2\n",
      "Downloading 21 of 60 images from page 2\n",
      "Downloading 22 of 60 images from page 2\n",
      "Downloading 23 of 60 images from page 2\n",
      "Downloading 24 of 60 images from page 2\n",
      "Downloading 25 of 60 images from page 2\n",
      "Downloading 26 of 60 images from page 2\n",
      "Downloading 27 of 60 images from page 2\n",
      "Downloading 28 of 60 images from page 2\n",
      "Downloading 29 of 60 images from page 2\n",
      "Downloading 30 of 60 images from page 2\n",
      "Downloading 31 of 60 images from page 2\n",
      "Downloading 32 of 60 images from page 2\n",
      "Downloading 33 of 60 images from page 2\n",
      "Downloading 34 of 60 images from page 2\n",
      "Downloading 35 of 60 images from page 2\n",
      "Downloading 36 of 60 images from page 2\n",
      "Downloading 37 of 60 images from page 2\n",
      "Downloading 38 of 60 images from page 2\n",
      "Downloading 39 of 60 images from page 2\n",
      "Downloading 40 of 60 images from page 2\n",
      "Downloading 41 of 60 images from page 2\n",
      "Downloading 42 of 60 images from page 2\n",
      "Downloading 43 of 60 images from page 2\n",
      "Downloading 44 of 60 images from page 2\n",
      "Downloading 45 of 60 images from page 2\n",
      "Downloading 46 of 60 images from page 2\n",
      "Downloading 47 of 60 images from page 2\n",
      "Downloading 48 of 60 images from page 2\n",
      "Downloading 49 of 60 images from page 2\n",
      "Downloading 50 of 60 images from page 2\n",
      "Downloading 51 of 60 images from page 2\n",
      "Downloading 52 of 60 images from page 2\n",
      "Downloading 53 of 60 images from page 2\n",
      "Downloading 54 of 60 images from page 2\n",
      "Downloading 55 of 60 images from page 2\n",
      "Downloading 56 of 60 images from page 2\n",
      "Downloading 57 of 60 images from page 2\n",
      "Downloading 58 of 60 images from page 2\n",
      "Downloading 59 of 60 images from page 2\n",
      "Downloading 60 of 60 images from page 2\n"
     ]
    }
   ],
   "source": [
    "page=2\n",
    "for index, link in enumerate(urls):\n",
    "    print(\"Downloading {0} of {1} images from page 2\".format(index+1, len(urls)))\n",
    "    response=requests.get(link)\n",
    "    with open('Trousers Men/img{0}{1}.jpeg'.format(index,page),\"wb\")as file:\n",
    "        file.write(response.content)"
   ]
  },
  {
   "cell_type": "markdown",
   "metadata": {},
   "source": [
    "### Moving to Page 3"
   ]
  },
  {
   "cell_type": "code",
   "execution_count": 98,
   "metadata": {},
   "outputs": [],
   "source": [
    "next_page=driver.find_element_by_xpath(\"//li[@class = 'a-last']//a\").click()"
   ]
  },
  {
   "cell_type": "code",
   "execution_count": 99,
   "metadata": {},
   "outputs": [],
   "source": [
    "trouser_images=driver.find_elements_by_xpath(\"//img[@class ='s-image' ]\")"
   ]
  },
  {
   "cell_type": "code",
   "execution_count": 100,
   "metadata": {},
   "outputs": [
    {
     "data": {
      "text/plain": [
       "60"
      ]
     },
     "execution_count": 100,
     "metadata": {},
     "output_type": "execute_result"
    }
   ],
   "source": [
    "len(trouser_images)"
   ]
  },
  {
   "cell_type": "code",
   "execution_count": 101,
   "metadata": {},
   "outputs": [
    {
     "name": "stdout",
     "output_type": "stream",
     "text": [
      "https://m.media-amazon.com/images/I/718S+pk0GZL._AC_UL320_.jpg\n",
      "https://m.media-amazon.com/images/I/51vHPTmdHgL._AC_UL320_.jpg\n",
      "https://m.media-amazon.com/images/I/71wRqpTsJKL._AC_UL320_.jpg\n",
      "https://m.media-amazon.com/images/I/51hDKCsS4JL._AC_UL320_.jpg\n",
      "https://m.media-amazon.com/images/I/61WnnOJHFML._AC_UL320_.jpg\n",
      "https://m.media-amazon.com/images/I/313Ga-+JnwL._AC_UL320_.jpg\n",
      "https://m.media-amazon.com/images/I/31DLX2xvIOL._AC_UL320_.jpg\n",
      "https://m.media-amazon.com/images/I/610obmvmQfL._AC_UL320_.jpg\n",
      "https://m.media-amazon.com/images/I/911kLt8dvbL._AC_UL320_.jpg\n",
      "https://m.media-amazon.com/images/I/41i8-8fWKGL._AC_UL320_.jpg\n",
      "https://m.media-amazon.com/images/I/61Q2Mf73SlL._AC_UL320_.jpg\n",
      "https://m.media-amazon.com/images/I/51iwhxFYKmL._AC_UL320_.jpg\n",
      "https://m.media-amazon.com/images/I/81cgAFX29oL._AC_UL320_.jpg\n",
      "https://m.media-amazon.com/images/I/71u47o-yKnL._AC_UL320_.jpg\n",
      "https://m.media-amazon.com/images/I/71gpDZ7uWpL._AC_UL320_.jpg\n",
      "https://m.media-amazon.com/images/I/71wxSLHjfAL._AC_UL320_.jpg\n",
      "https://m.media-amazon.com/images/I/81lJwMsvB3L._AC_UL320_.jpg\n",
      "https://m.media-amazon.com/images/I/71tHnPbUjVL._AC_UL320_.jpg\n",
      "https://m.media-amazon.com/images/I/81teKjNigbL._AC_UL320_.jpg\n",
      "https://m.media-amazon.com/images/I/71vxfK2yhcL._AC_UL320_.jpg\n",
      "https://m.media-amazon.com/images/I/31BjWLuAX5L._AC_UL320_.jpg\n",
      "https://m.media-amazon.com/images/I/81zoWq6v9DL._AC_UL320_.jpg\n",
      "https://m.media-amazon.com/images/I/71N5IxTDbpL._AC_UL320_.jpg\n",
      "https://m.media-amazon.com/images/I/61T6Q6We-nL._AC_UL320_.jpg\n",
      "https://m.media-amazon.com/images/I/71FZpjrkc3L._AC_UL320_.jpg\n",
      "https://m.media-amazon.com/images/I/71haKlhpIgL._AC_UL320_.jpg\n",
      "https://m.media-amazon.com/images/I/71ooEqQarPL._AC_UL320_.jpg\n",
      "https://m.media-amazon.com/images/I/61fPJ1Qqb3L._AC_UL320_.jpg\n",
      "https://m.media-amazon.com/images/I/61C-NgrKlCL._AC_UL320_.jpg\n",
      "https://m.media-amazon.com/images/I/71UCDZJAj0L._AC_UL320_.jpg\n",
      "https://m.media-amazon.com/images/I/717qYkABf8L._AC_UL320_.jpg\n",
      "https://m.media-amazon.com/images/I/51GPPdnaZCL._AC_UL320_.jpg\n",
      "https://m.media-amazon.com/images/I/61TsX0Gn73L._AC_UL320_.jpg\n",
      "https://m.media-amazon.com/images/I/61f195vtBKL._AC_UL320_.jpg\n",
      "https://m.media-amazon.com/images/I/81BmbWD5l5L._AC_UL320_.jpg\n",
      "https://m.media-amazon.com/images/I/71vdKuDdR7L._AC_UL320_.jpg\n",
      "https://m.media-amazon.com/images/I/31QYXZdXqtL._AC_UL320_.jpg\n",
      "https://m.media-amazon.com/images/I/71+mIAH6umL._AC_UL320_.jpg\n",
      "https://m.media-amazon.com/images/I/61p5zV1aOeL._AC_UL320_.jpg\n",
      "https://m.media-amazon.com/images/I/610wK6ZUJOL._AC_UL320_.jpg\n",
      "https://m.media-amazon.com/images/I/61f5zNmCY1L._AC_UL320_.jpg\n",
      "https://m.media-amazon.com/images/I/31Fu9RijEFL._AC_UL320_.jpg\n",
      "https://m.media-amazon.com/images/I/71n+e3ZrggL._AC_UL320_.jpg\n",
      "https://m.media-amazon.com/images/I/71XKygB9u7L._AC_UL320_.jpg\n",
      "https://m.media-amazon.com/images/I/41y8WJpHigL._AC_UL320_.jpg\n",
      "https://m.media-amazon.com/images/I/41nydF2cKbL._AC_UL320_.jpg\n",
      "https://m.media-amazon.com/images/I/71f81hamthL._AC_UL320_.jpg\n",
      "https://m.media-amazon.com/images/I/81O9HG8ydFL._AC_UL320_.jpg\n",
      "https://m.media-amazon.com/images/I/71ETLX5vIQL._AC_UL320_.jpg\n",
      "https://m.media-amazon.com/images/I/71-3JogmPnL._AC_UL320_.jpg\n",
      "https://m.media-amazon.com/images/I/513JgXuAAwL._AC_UL320_.jpg\n",
      "https://m.media-amazon.com/images/I/71BncDzkYaL._AC_UL320_.jpg\n",
      "https://m.media-amazon.com/images/I/71kdVCKPy3L._AC_UL320_.jpg\n",
      "https://m.media-amazon.com/images/I/715qwDpY3TL._AC_UL320_.jpg\n",
      "https://m.media-amazon.com/images/I/81syA1RnVmL._AC_UL320_.jpg\n",
      "https://m.media-amazon.com/images/I/611ZoqIfN1L._AC_UL320_.jpg\n",
      "https://m.media-amazon.com/images/I/81g6ECoJ+RL._AC_UL320_.jpg\n",
      "https://m.media-amazon.com/images/I/71Q2RHHZWSL._AC_UL320_.jpg\n",
      "https://m.media-amazon.com/images/I/51PAvYvziBL._AC_UL320_.jpg\n",
      "https://m.media-amazon.com/images/I/71Cqu39IEBL._AC_UL320_.jpg\n"
     ]
    }
   ],
   "source": [
    "urls=[]\n",
    "for trouser_image in trouser_images:\n",
    "    source=trouser_image.get_attribute('src')\n",
    "    urls.append(source)\n",
    "    print(source)"
   ]
  },
  {
   "cell_type": "code",
   "execution_count": 102,
   "metadata": {},
   "outputs": [
    {
     "name": "stdout",
     "output_type": "stream",
     "text": [
      "Downloading 1 of 60 images from page 3\n",
      "Downloading 2 of 60 images from page 3\n",
      "Downloading 3 of 60 images from page 3\n",
      "Downloading 4 of 60 images from page 3\n",
      "Downloading 5 of 60 images from page 3\n",
      "Downloading 6 of 60 images from page 3\n",
      "Downloading 7 of 60 images from page 3\n",
      "Downloading 8 of 60 images from page 3\n",
      "Downloading 9 of 60 images from page 3\n",
      "Downloading 10 of 60 images from page 3\n",
      "Downloading 11 of 60 images from page 3\n",
      "Downloading 12 of 60 images from page 3\n",
      "Downloading 13 of 60 images from page 3\n",
      "Downloading 14 of 60 images from page 3\n",
      "Downloading 15 of 60 images from page 3\n",
      "Downloading 16 of 60 images from page 3\n",
      "Downloading 17 of 60 images from page 3\n",
      "Downloading 18 of 60 images from page 3\n",
      "Downloading 19 of 60 images from page 3\n",
      "Downloading 20 of 60 images from page 3\n",
      "Downloading 21 of 60 images from page 3\n",
      "Downloading 22 of 60 images from page 3\n",
      "Downloading 23 of 60 images from page 3\n",
      "Downloading 24 of 60 images from page 3\n",
      "Downloading 25 of 60 images from page 3\n",
      "Downloading 26 of 60 images from page 3\n",
      "Downloading 27 of 60 images from page 3\n",
      "Downloading 28 of 60 images from page 3\n",
      "Downloading 29 of 60 images from page 3\n",
      "Downloading 30 of 60 images from page 3\n",
      "Downloading 31 of 60 images from page 3\n",
      "Downloading 32 of 60 images from page 3\n",
      "Downloading 33 of 60 images from page 3\n",
      "Downloading 34 of 60 images from page 3\n",
      "Downloading 35 of 60 images from page 3\n",
      "Downloading 36 of 60 images from page 3\n",
      "Downloading 37 of 60 images from page 3\n",
      "Downloading 38 of 60 images from page 3\n",
      "Downloading 39 of 60 images from page 3\n",
      "Downloading 40 of 60 images from page 3\n",
      "Downloading 41 of 60 images from page 3\n",
      "Downloading 42 of 60 images from page 3\n",
      "Downloading 43 of 60 images from page 3\n",
      "Downloading 44 of 60 images from page 3\n",
      "Downloading 45 of 60 images from page 3\n",
      "Downloading 46 of 60 images from page 3\n",
      "Downloading 47 of 60 images from page 3\n",
      "Downloading 48 of 60 images from page 3\n",
      "Downloading 49 of 60 images from page 3\n",
      "Downloading 50 of 60 images from page 3\n",
      "Downloading 51 of 60 images from page 3\n",
      "Downloading 52 of 60 images from page 3\n",
      "Downloading 53 of 60 images from page 3\n",
      "Downloading 54 of 60 images from page 3\n",
      "Downloading 55 of 60 images from page 3\n",
      "Downloading 56 of 60 images from page 3\n",
      "Downloading 57 of 60 images from page 3\n",
      "Downloading 58 of 60 images from page 3\n",
      "Downloading 59 of 60 images from page 3\n",
      "Downloading 60 of 60 images from page 3\n"
     ]
    }
   ],
   "source": [
    "page=3\n",
    "for index, link in enumerate(urls):\n",
    "    print(\"Downloading {0} of {1} images from page 3\".format(index+1, len(urls)))\n",
    "    response=requests.get(link)\n",
    "    with open('Trousers Men/img{0}{1}.jpeg'.format(index,page),\"wb\")as file:\n",
    "        file.write(response.content)"
   ]
  },
  {
   "cell_type": "markdown",
   "metadata": {},
   "source": [
    "### Moving to Page 4"
   ]
  },
  {
   "cell_type": "code",
   "execution_count": 103,
   "metadata": {},
   "outputs": [],
   "source": [
    "next_page=driver.find_element_by_xpath(\"//li[@class = 'a-last']//a\").click()"
   ]
  },
  {
   "cell_type": "code",
   "execution_count": 104,
   "metadata": {},
   "outputs": [],
   "source": [
    "trouser_images=driver.find_elements_by_xpath(\"//img[@class ='s-image' ]\")"
   ]
  },
  {
   "cell_type": "code",
   "execution_count": 105,
   "metadata": {},
   "outputs": [
    {
     "data": {
      "text/plain": [
       "60"
      ]
     },
     "execution_count": 105,
     "metadata": {},
     "output_type": "execute_result"
    }
   ],
   "source": [
    "len(trouser_images)"
   ]
  },
  {
   "cell_type": "code",
   "execution_count": 106,
   "metadata": {},
   "outputs": [
    {
     "name": "stdout",
     "output_type": "stream",
     "text": [
      "https://m.media-amazon.com/images/I/718S+pk0GZL._AC_UL320_.jpg\n",
      "https://m.media-amazon.com/images/I/51vHPTmdHgL._AC_UL320_.jpg\n",
      "https://m.media-amazon.com/images/I/71wRqpTsJKL._AC_UL320_.jpg\n",
      "https://m.media-amazon.com/images/I/51hDKCsS4JL._AC_UL320_.jpg\n",
      "https://m.media-amazon.com/images/I/61WnnOJHFML._AC_UL320_.jpg\n",
      "https://m.media-amazon.com/images/I/313Ga-+JnwL._AC_UL320_.jpg\n",
      "https://m.media-amazon.com/images/I/31DLX2xvIOL._AC_UL320_.jpg\n",
      "https://m.media-amazon.com/images/I/610obmvmQfL._AC_UL320_.jpg\n",
      "https://m.media-amazon.com/images/I/911kLt8dvbL._AC_UL320_.jpg\n",
      "https://m.media-amazon.com/images/I/41i8-8fWKGL._AC_UL320_.jpg\n",
      "https://m.media-amazon.com/images/I/61Q2Mf73SlL._AC_UL320_.jpg\n",
      "https://m.media-amazon.com/images/I/51iwhxFYKmL._AC_UL320_.jpg\n",
      "https://m.media-amazon.com/images/I/81cgAFX29oL._AC_UL320_.jpg\n",
      "https://m.media-amazon.com/images/I/71u47o-yKnL._AC_UL320_.jpg\n",
      "https://m.media-amazon.com/images/I/71gpDZ7uWpL._AC_UL320_.jpg\n",
      "https://m.media-amazon.com/images/I/71wxSLHjfAL._AC_UL320_.jpg\n",
      "https://m.media-amazon.com/images/I/81lJwMsvB3L._AC_UL320_.jpg\n",
      "https://m.media-amazon.com/images/I/71tHnPbUjVL._AC_UL320_.jpg\n",
      "https://m.media-amazon.com/images/I/81teKjNigbL._AC_UL320_.jpg\n",
      "https://m.media-amazon.com/images/I/71vxfK2yhcL._AC_UL320_.jpg\n",
      "https://m.media-amazon.com/images/I/31BjWLuAX5L._AC_UL320_.jpg\n",
      "https://m.media-amazon.com/images/I/81zoWq6v9DL._AC_UL320_.jpg\n",
      "https://m.media-amazon.com/images/I/71N5IxTDbpL._AC_UL320_.jpg\n",
      "https://m.media-amazon.com/images/I/61T6Q6We-nL._AC_UL320_.jpg\n",
      "https://m.media-amazon.com/images/I/71FZpjrkc3L._AC_UL320_.jpg\n",
      "https://m.media-amazon.com/images/I/71haKlhpIgL._AC_UL320_.jpg\n",
      "https://m.media-amazon.com/images/I/71ooEqQarPL._AC_UL320_.jpg\n",
      "https://m.media-amazon.com/images/I/61fPJ1Qqb3L._AC_UL320_.jpg\n",
      "https://m.media-amazon.com/images/I/61C-NgrKlCL._AC_UL320_.jpg\n",
      "https://m.media-amazon.com/images/I/71UCDZJAj0L._AC_UL320_.jpg\n",
      "https://m.media-amazon.com/images/I/717qYkABf8L._AC_UL320_.jpg\n",
      "https://m.media-amazon.com/images/I/51GPPdnaZCL._AC_UL320_.jpg\n",
      "https://m.media-amazon.com/images/I/61TsX0Gn73L._AC_UL320_.jpg\n",
      "https://m.media-amazon.com/images/I/61f195vtBKL._AC_UL320_.jpg\n",
      "https://m.media-amazon.com/images/I/81BmbWD5l5L._AC_UL320_.jpg\n",
      "https://m.media-amazon.com/images/I/71vdKuDdR7L._AC_UL320_.jpg\n",
      "https://m.media-amazon.com/images/I/31QYXZdXqtL._AC_UL320_.jpg\n",
      "https://m.media-amazon.com/images/I/71+mIAH6umL._AC_UL320_.jpg\n",
      "https://m.media-amazon.com/images/I/61p5zV1aOeL._AC_UL320_.jpg\n",
      "https://m.media-amazon.com/images/I/610wK6ZUJOL._AC_UL320_.jpg\n",
      "https://m.media-amazon.com/images/I/61f5zNmCY1L._AC_UL320_.jpg\n",
      "https://m.media-amazon.com/images/I/31Fu9RijEFL._AC_UL320_.jpg\n",
      "https://m.media-amazon.com/images/I/71n+e3ZrggL._AC_UL320_.jpg\n",
      "https://m.media-amazon.com/images/I/71XKygB9u7L._AC_UL320_.jpg\n",
      "https://m.media-amazon.com/images/I/41y8WJpHigL._AC_UL320_.jpg\n",
      "https://m.media-amazon.com/images/I/41nydF2cKbL._AC_UL320_.jpg\n",
      "https://m.media-amazon.com/images/I/71f81hamthL._AC_UL320_.jpg\n",
      "https://m.media-amazon.com/images/I/81O9HG8ydFL._AC_UL320_.jpg\n",
      "https://m.media-amazon.com/images/I/71ETLX5vIQL._AC_UL320_.jpg\n",
      "https://m.media-amazon.com/images/I/71-3JogmPnL._AC_UL320_.jpg\n",
      "https://m.media-amazon.com/images/I/513JgXuAAwL._AC_UL320_.jpg\n",
      "https://m.media-amazon.com/images/I/71BncDzkYaL._AC_UL320_.jpg\n",
      "https://m.media-amazon.com/images/I/71kdVCKPy3L._AC_UL320_.jpg\n",
      "https://m.media-amazon.com/images/I/715qwDpY3TL._AC_UL320_.jpg\n",
      "https://m.media-amazon.com/images/I/81syA1RnVmL._AC_UL320_.jpg\n",
      "https://m.media-amazon.com/images/I/611ZoqIfN1L._AC_UL320_.jpg\n",
      "https://m.media-amazon.com/images/I/81g6ECoJ+RL._AC_UL320_.jpg\n",
      "https://m.media-amazon.com/images/I/71Q2RHHZWSL._AC_UL320_.jpg\n",
      "https://m.media-amazon.com/images/I/51PAvYvziBL._AC_UL320_.jpg\n",
      "https://m.media-amazon.com/images/I/71Cqu39IEBL._AC_UL320_.jpg\n"
     ]
    }
   ],
   "source": [
    "urls=[]\n",
    "for trouser_image in trouser_images:\n",
    "    source=trouser_image.get_attribute('src')\n",
    "    urls.append(source)\n",
    "    print(source)"
   ]
  },
  {
   "cell_type": "code",
   "execution_count": 107,
   "metadata": {},
   "outputs": [
    {
     "name": "stdout",
     "output_type": "stream",
     "text": [
      "Downloading 1 of 60 images from page 4\n",
      "Downloading 2 of 60 images from page 4\n",
      "Downloading 3 of 60 images from page 4\n",
      "Downloading 4 of 60 images from page 4\n",
      "Downloading 5 of 60 images from page 4\n",
      "Downloading 6 of 60 images from page 4\n",
      "Downloading 7 of 60 images from page 4\n",
      "Downloading 8 of 60 images from page 4\n",
      "Downloading 9 of 60 images from page 4\n",
      "Downloading 10 of 60 images from page 4\n",
      "Downloading 11 of 60 images from page 4\n",
      "Downloading 12 of 60 images from page 4\n",
      "Downloading 13 of 60 images from page 4\n",
      "Downloading 14 of 60 images from page 4\n",
      "Downloading 15 of 60 images from page 4\n",
      "Downloading 16 of 60 images from page 4\n",
      "Downloading 17 of 60 images from page 4\n",
      "Downloading 18 of 60 images from page 4\n",
      "Downloading 19 of 60 images from page 4\n",
      "Downloading 20 of 60 images from page 4\n",
      "Downloading 21 of 60 images from page 4\n",
      "Downloading 22 of 60 images from page 4\n",
      "Downloading 23 of 60 images from page 4\n",
      "Downloading 24 of 60 images from page 4\n",
      "Downloading 25 of 60 images from page 4\n",
      "Downloading 26 of 60 images from page 4\n",
      "Downloading 27 of 60 images from page 4\n",
      "Downloading 28 of 60 images from page 4\n",
      "Downloading 29 of 60 images from page 4\n",
      "Downloading 30 of 60 images from page 4\n",
      "Downloading 31 of 60 images from page 4\n",
      "Downloading 32 of 60 images from page 4\n",
      "Downloading 33 of 60 images from page 4\n",
      "Downloading 34 of 60 images from page 4\n",
      "Downloading 35 of 60 images from page 4\n",
      "Downloading 36 of 60 images from page 4\n",
      "Downloading 37 of 60 images from page 4\n",
      "Downloading 38 of 60 images from page 4\n",
      "Downloading 39 of 60 images from page 4\n",
      "Downloading 40 of 60 images from page 4\n",
      "Downloading 41 of 60 images from page 4\n",
      "Downloading 42 of 60 images from page 4\n",
      "Downloading 43 of 60 images from page 4\n",
      "Downloading 44 of 60 images from page 4\n",
      "Downloading 45 of 60 images from page 4\n",
      "Downloading 46 of 60 images from page 4\n",
      "Downloading 47 of 60 images from page 4\n",
      "Downloading 48 of 60 images from page 4\n",
      "Downloading 49 of 60 images from page 4\n",
      "Downloading 50 of 60 images from page 4\n",
      "Downloading 51 of 60 images from page 4\n",
      "Downloading 52 of 60 images from page 4\n",
      "Downloading 53 of 60 images from page 4\n",
      "Downloading 54 of 60 images from page 4\n",
      "Downloading 55 of 60 images from page 4\n",
      "Downloading 56 of 60 images from page 4\n",
      "Downloading 57 of 60 images from page 4\n",
      "Downloading 58 of 60 images from page 4\n",
      "Downloading 59 of 60 images from page 4\n",
      "Downloading 60 of 60 images from page 4\n"
     ]
    }
   ],
   "source": [
    "page=4\n",
    "for index, link in enumerate(urls):\n",
    "    print(\"Downloading {0} of {1} images from page 4\".format(index+1, len(urls)))\n",
    "    response=requests.get(link)\n",
    "    with open('Trousers Men/img{0}{1}.jpeg'.format(index,page),\"wb\")as file:\n",
    "        file.write(response.content)"
   ]
  },
  {
   "cell_type": "code",
   "execution_count": null,
   "metadata": {},
   "outputs": [],
   "source": []
  }
 ],
 "metadata": {
  "kernelspec": {
   "display_name": "Python 3",
   "language": "python",
   "name": "python3"
  },
  "language_info": {
   "codemirror_mode": {
    "name": "ipython",
    "version": 3
   },
   "file_extension": ".py",
   "mimetype": "text/x-python",
   "name": "python",
   "nbconvert_exporter": "python",
   "pygments_lexer": "ipython3",
   "version": "3.6.5"
  }
 },
 "nbformat": 4,
 "nbformat_minor": 2
}
